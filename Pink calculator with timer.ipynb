{
 "cells": [
  {
   "cell_type": "code",
   "execution_count": 1,
   "id": "c17f27f0",
   "metadata": {},
   "outputs": [],
   "source": [
    "import tkinter as tk\n",
    "import time"
   ]
  },
  {
   "cell_type": "code",
   "execution_count": 2,
   "id": "6b3f33bb",
   "metadata": {},
   "outputs": [],
   "source": [
    "def update_clock():\n",
    "    current_time = time.strftime('%H:%M:%S')\n",
    "    clock_label.config(text=current_time)\n",
    "    clock_label.after(1000, update_clock)"
   ]
  },
  {
   "cell_type": "code",
   "execution_count": 3,
   "id": "a06c9ae3",
   "metadata": {},
   "outputs": [],
   "source": [
    "def start_timer():\n",
    "    timer_minutes = int(timer_entry.get())\n",
    "    if timer_minutes > 0:\n",
    "        timer_label.config(text=f\"Timer: {timer_minutes} minutes\")\n",
    "        countdown(timer_minutes * 60)"
   ]
  },
  {
   "cell_type": "code",
   "execution_count": 4,
   "id": "1da15b3c",
   "metadata": {},
   "outputs": [],
   "source": [
    "def countdown(seconds):\n",
    "    if seconds > 0:\n",
    "        minutes, secs = divmod(seconds, 60)\n",
    "        timer_label.config(text=f\"Timer: {minutes:02d}:{secs:02d}\")\n",
    "        seconds -= 1\n",
    "        timer_label.after(1000, countdown, seconds)\n",
    "    else:\n",
    "        timer_label.config(text=\"Timer: Done!\")\n"
   ]
  },
  {
   "cell_type": "code",
   "execution_count": 5,
   "id": "65139283",
   "metadata": {},
   "outputs": [],
   "source": [
    "# Create the main window\n",
    "window = tk.Tk()\n",
    "window.title(\"Pink Clock with Timer\")\n",
    "window.geometry(\"300x200\")\n",
    "window.configure(bg=\"pink\")"
   ]
  },
  {
   "cell_type": "code",
   "execution_count": 6,
   "id": "ea30cd74",
   "metadata": {},
   "outputs": [],
   "source": [
    "# Create the clock label\n",
    "clock_label = tk.Label(window, font=(\"Arial\", 40), bg=\"pink\")\n",
    "clock_label.pack(pady=20)"
   ]
  },
  {
   "cell_type": "code",
   "execution_count": 7,
   "id": "e69d8225",
   "metadata": {},
   "outputs": [],
   "source": [
    "# Create the timer label and entry\n",
    "timer_label = tk.Label(window, font=(\"Arial\", 16), bg=\"pink\")\n",
    "timer_label.pack()\n",
    "timer_entry = tk.Entry(window, font=(\"Arial\", 16))\n",
    "timer_entry.pack(pady=10)"
   ]
  },
  {
   "cell_type": "code",
   "execution_count": 8,
   "id": "660fe8bd",
   "metadata": {},
   "outputs": [],
   "source": [
    "# Create the start timer button\n",
    "start_button = tk.Button(window, text=\"Start Timer\", font=(\"Arial\", 16), command=start_timer)\n",
    "start_button.pack()"
   ]
  },
  {
   "cell_type": "code",
   "execution_count": 9,
   "id": "9d11f4b0",
   "metadata": {},
   "outputs": [],
   "source": [
    "# Update the clock initially and every second\n",
    "update_clock()"
   ]
  },
  {
   "cell_type": "code",
   "execution_count": null,
   "id": "f2b27586",
   "metadata": {},
   "outputs": [],
   "source": [
    "# Start the Tkinter event loop\n",
    "window.mainloop()\n"
   ]
  },
  {
   "cell_type": "code",
   "execution_count": null,
   "id": "d41c00d2",
   "metadata": {},
   "outputs": [],
   "source": [
    "f=1"
   ]
  },
  {
   "cell_type": "code",
   "execution_count": null,
   "id": "ac578d32",
   "metadata": {},
   "outputs": [],
   "source": []
  }
 ],
 "metadata": {
  "kernelspec": {
   "display_name": "Python 3 (ipykernel)",
   "language": "python",
   "name": "python3"
  },
  "language_info": {
   "codemirror_mode": {
    "name": "ipython",
    "version": 3
   },
   "file_extension": ".py",
   "mimetype": "text/x-python",
   "name": "python",
   "nbconvert_exporter": "python",
   "pygments_lexer": "ipython3",
   "version": "3.10.9"
  }
 },
 "nbformat": 4,
 "nbformat_minor": 5
}
