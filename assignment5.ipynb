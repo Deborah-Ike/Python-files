{
 "cells": [
  {
   "cell_type": "code",
   "execution_count": 119,
   "metadata": {
    "deletable": false,
    "editable": false
   },
   "outputs": [],
   "source": [
    "# Initialize Otter\n",
    "import otter\n",
    "grader = otter.Notebook(\"assignment5.ipynb\")"
   ]
  },
  {
   "cell_type": "markdown",
   "metadata": {},
   "source": [
    "# STK 353\n",
    "\n",
    "## Assignment 5: Text Mining\n",
    "\n",
    "### Total points: 30\n",
    "\n",
    "- Submission deadline: 23:00, Friday 7 October 2022.\n",
    "- This assignment is individual work.\n",
    "- Some of the tests are hidden, and some are visible in order to guide you.\n",
    "- The graphs will be manually assessed.\n",
    "- **NB**: books_dat1 will be used for Question 4 - 10"
   ]
  },
  {
   "cell_type": "markdown",
   "metadata": {},
   "source": [
    "## Load the required packages"
   ]
  },
  {
   "cell_type": "code",
   "execution_count": 120,
   "metadata": {},
   "outputs": [],
   "source": [
    "import re\n",
    "\n",
    "import pandas as pd\n",
    "import numpy as np\n",
    "import matplotlib.pyplot as plt\n",
    "\n",
    "from sklearn.feature_extraction.text import CountVectorizer\n",
    "from wordcloud import WordCloud, ImageColorGenerator\n",
    "from nltk.corpus import stopwords\n",
    "# from PIL import Image\n",
    "\n",
    "%matplotlib inline"
   ]
  },
  {
   "cell_type": "markdown",
   "metadata": {
    "deletable": false,
    "editable": false
   },
   "source": [
    "### Question 1 [2]\n",
    "\n",
    "Consider the `customer_ref` string given below. Use the Python regex (re) package to find and return all the customer id values which are given by the last 4 digits in the customer reference. \n",
    "\n",
    "- Assign the pattern to the variable 'pat_1'\n",
    "- Assign the regex function to the variable 'match_1'\n",
    "\n",
    "<!--\n",
    "BEGIN QUESTION\n",
    "name: q1\n",
    "points: \n",
    "    each: 1\n",
    "-->"
   ]
  },
  {
   "cell_type": "code",
   "execution_count": 3,
   "metadata": {},
   "outputs": [
    {
     "name": "stdout",
     "output_type": "stream",
     "text": [
      "\\d{4}\n",
      "['4757', '6090', '4879', '7291', '5984', '3645', '4360', '9341']\n"
     ]
    }
   ],
   "source": [
    "customer = 'CUSTIDWQBZXYRG4757, CUSTIDWQBZXYRG6090, CUSTIDWQBZXYRG4879, CUSTIDWQBZXYRG7291,\\\n",
    "CUSTIDWQBZXYRG5984, CUSTIDWQBZXYRG3645, CUSTIDWQBZXYRG4360, CUSTIDWQBZXYRG9341'\n",
    "\n",
    "pat_1 = r'\\d{4}'\n",
    "match_1 = re.findall(pat_1,customer)\n",
    "\n",
    "print(pat_1)\n",
    "print(match_1) #Hint: this should be a list"
   ]
  },
  {
   "cell_type": "code",
   "execution_count": 4,
   "metadata": {
    "deletable": false,
    "editable": false
   },
   "outputs": [
    {
     "data": {
      "text/html": [
       "<p><strong><pre style='display: inline;'>q1</pre></strong> passed!</p>"
      ],
      "text/plain": [
       "q1 results: All test cases passed!"
      ]
     },
     "execution_count": 4,
     "metadata": {},
     "output_type": "execute_result"
    }
   ],
   "source": [
    "grader.check(\"q1\")"
   ]
  },
  {
   "cell_type": "markdown",
   "metadata": {
    "deletable": false,
    "editable": false
   },
   "source": [
    "### Question 2a [4]\n",
    "\n",
    "\n",
    "Consider the `phone_numbers` string given below. Use the Python regex (re) package to search and find all the dialling codes present in the string. Take note that the dialing code for this exercise comprises of the `+` sign as well as the first 2 digits. For example, the if the phone number is given as `+27824561188` then the `+27` is considered the dialing code. Once you have extracted all the dialing codes assign the unique dialing codes to the variable `unq_2a`.\n",
    "\n",
    "- Assign the pattern to the variable 'pat_2a'\n",
    "- Assign the regex function to the variable 'match_2a'\n",
    "- Assign the unique dialing codes to the variable 'unq_2a'\n",
    "\n",
    "<!--\n",
    "BEGIN QUESTION\n",
    "name: q2a\n",
    "points: \n",
    "    each: 1\n",
    "-->"
   ]
  },
  {
   "cell_type": "code",
   "execution_count": 5,
   "metadata": {},
   "outputs": [
    {
     "name": "stdout",
     "output_type": "stream",
     "text": [
      "['+27', '+41', '+49', '+55', '+55', '+41', '+49', '+61', '+27', '+61']\n",
      "['+27', '+41', '+49', '+55', '+61']\n"
     ]
    }
   ],
   "source": [
    "phone_numbers = '+27617177890, +41802422217, +49627339280, +55876066668, +55753488455, +41794421438, +49630208922, +61887188951, +27630088124, +61846982747'\n",
    "\n",
    "pat_2a = r'\\+\\d{2}'\n",
    "match_2a = re.findall(pat_2a,phone_numbers)\n",
    "unq_2a = []\n",
    "for num in np.unique(match_2a):\n",
    "    unq_2a.append(num)\n",
    "\n",
    "print(match_2a)\n",
    "print(unq_2a)"
   ]
  },
  {
   "cell_type": "code",
   "execution_count": 6,
   "metadata": {
    "deletable": false,
    "editable": false
   },
   "outputs": [
    {
     "data": {
      "text/html": [
       "<p><strong><pre style='display: inline;'>q2a</pre></strong> passed!</p>"
      ],
      "text/plain": [
       "q2a results: All test cases passed!"
      ]
     },
     "execution_count": 6,
     "metadata": {},
     "output_type": "execute_result"
    }
   ],
   "source": [
    "grader.check(\"q2a\")"
   ]
  },
  {
   "cell_type": "markdown",
   "metadata": {
    "deletable": false,
    "editable": false
   },
   "source": [
    "### Question 2b [2]\n",
    "\n",
    "\n",
    "Consider the `phone_numbers` string given below. Use the Python regex (re) package to search and replace the dialling code with the number zero. Take note that the dialing code for this exercise comprises of the `+` sign as well as the first 2 digits. For example, the if the phone number is given as `+27824561188` then the `+27` should be replaced with `0` and thus the value returned should be `0824561188`\n",
    "\n",
    "- Assign the pattern to the variable 'pat_2b'\n",
    "- Assign the regex function to the variable 'match_2b'\n",
    "\n",
    "<!--\n",
    "BEGIN QUESTION\n",
    "name: q2b\n",
    "points: \n",
    "    each: 1\n",
    "-->"
   ]
  },
  {
   "cell_type": "code",
   "execution_count": 7,
   "metadata": {},
   "outputs": [
    {
     "name": "stdout",
     "output_type": "stream",
     "text": [
      "0617177890, 0802422217, 0627339280, 0876066668, 0753488455, 0794421438, 0630208922, 0887188951, 0630088124, 0846982747\n"
     ]
    }
   ],
   "source": [
    "phone_numbers = '+27617177890, +41802422217, +49627339280, +55876066668, +55753488455, +41794421438, +49630208922, +61887188951, +27630088124, +61846982747'\n",
    "\n",
    "pat_2b = r'\\+\\d{2}'\n",
    "match_2b = re.sub(pat_2b,\"0\",phone_numbers)\n",
    "\n",
    "print(match_2b)"
   ]
  },
  {
   "cell_type": "code",
   "execution_count": 8,
   "metadata": {
    "deletable": false,
    "editable": false
   },
   "outputs": [
    {
     "data": {
      "text/html": [
       "<p><strong><pre style='display: inline;'>q2b</pre></strong> passed!</p>"
      ],
      "text/plain": [
       "q2b results: All test cases passed!"
      ]
     },
     "execution_count": 8,
     "metadata": {},
     "output_type": "execute_result"
    }
   ],
   "source": [
    "grader.check(\"q2b\")"
   ]
  },
  {
   "cell_type": "markdown",
   "metadata": {
    "deletable": false,
    "editable": false
   },
   "source": [
    "### Question 3a [1]\n",
    "\n",
    "Consider the `sample_text3` given below. Use Python string methods to split the text such that each sentence in the paragraph is a seperate sentences. \n",
    "\n",
    "- Assign the new list to the variable 'new_text3'\n",
    "\n",
    "<!--\n",
    "BEGIN QUESTION\n",
    "name: q3a\n",
    "points: \n",
    "    each: 0.5\n",
    "-->"
   ]
  },
  {
   "cell_type": "code",
   "execution_count": 68,
   "metadata": {},
   "outputs": [
    {
     "name": "stdout",
     "output_type": "stream",
     "text": [
      "['The family of Dashwood had long been settled in Sussex', 'Their estate was large and their residence was at Norland Park in the centre of their property wherefor many generations they had lived in so respectable a manner as to engage the general good opinion of theirsurrounding acquaintance', '  The late owner of this estate was a single man who lived to a very advanced ageand who for many years of his life had a constant companion and housekeeper in his sister', 'But her death, which happened ten years before his own, produced a great alteration in his home;for to supply her loss he invited and received into his house the family of his nephew Mr Henry Dashwoodthe legal inheritor of the Norland estate and the person to whom he intended to bequeath it', \"In the society of his nephew and niece and their children the old Gentleman's days were comfortably spent\", 'His attachment to them all increased', '  The constant attention of Mr and Mrs Henry Dashwood to his wisheswhich proceeded not merely from interest but from goodness of heart gave him every degree of solidcomfort which his age could receive; and the cheerfulness of the children added a relish to his existence', '']\n"
     ]
    }
   ],
   "source": [
    "sample_text3 = 'The family of Dashwood had long been settled in Sussex.\\\n",
    "Their estate was large and their residence was at Norland Park in the centre of their property where\\\n",
    "for many generations they had lived in so respectable a manner as to engage the general good opinion of their\\\n",
    "surrounding acquaintance.  The late owner of this estate was a single man who lived to a very advanced age\\\n",
    "and who for many years of his life had a constant companion and housekeeper in his sister.\\\n",
    "But her death, which happened ten years before his own, produced a great alteration in his home;\\\n",
    "for to supply her loss he invited and received into his house the family of his nephew Mr Henry Dashwood\\\n",
    "the legal inheritor of the Norland estate and the person to whom he intended to bequeath it.\\\n",
    "In the society of his nephew and niece and their children the old Gentleman\\'s days were comfortably spent.\\\n",
    "His attachment to them all increased.  The constant attention of Mr and Mrs Henry Dashwood to his wishes\\\n",
    "which proceeded not merely from interest but from goodness of heart gave him every degree of solid\\\n",
    "comfort which his age could receive; and the cheerfulness of the children added a relish to his existence.'\n",
    "\n",
    "new_text3 = sample_text3.split('.')\n",
    "print(new_text3)"
   ]
  },
  {
   "cell_type": "code",
   "execution_count": 69,
   "metadata": {
    "deletable": false,
    "editable": false
   },
   "outputs": [
    {
     "data": {
      "text/html": [
       "<p><strong><pre style='display: inline;'>q3a</pre></strong> passed!</p>"
      ],
      "text/plain": [
       "q3a results: All test cases passed!"
      ]
     },
     "execution_count": 69,
     "metadata": {},
     "output_type": "execute_result"
    }
   ],
   "source": [
    "grader.check(\"q3a\")"
   ]
  },
  {
   "cell_type": "markdown",
   "metadata": {
    "deletable": false,
    "editable": false
   },
   "source": [
    "### Question 3b [1]\n",
    "\n",
    "Use the fourth sentence in 'sample_text3' (Question 3 a) and split the sentence even further at the semi-colon.\n",
    "\n",
    "- Assign the new list to the variable 'new_list3'\n",
    "\n",
    "<!--\n",
    "BEGIN QUESTION\n",
    "name: q3b\n",
    "points: \n",
    "    each: 0.5\n",
    "-->"
   ]
  },
  {
   "cell_type": "code",
   "execution_count": 70,
   "metadata": {},
   "outputs": [
    {
     "name": "stdout",
     "output_type": "stream",
     "text": [
      "['But her death, which happened ten years before his own, produced a great alteration in his home', 'for to supply her loss he invited and received into his house the family of his nephew Mr Henry Dashwoodthe legal inheritor of the Norland estate and the person to whom he intended to bequeath it']\n"
     ]
    }
   ],
   "source": [
    "new_list3 = new_text3[3].split(';')\n",
    "print(new_list3)"
   ]
  },
  {
   "cell_type": "code",
   "execution_count": 71,
   "metadata": {
    "deletable": false,
    "editable": false
   },
   "outputs": [
    {
     "data": {
      "text/html": [
       "<p><strong><pre style='display: inline;'>q3b</pre></strong> passed!</p>"
      ],
      "text/plain": [
       "q3b results: All test cases passed!"
      ]
     },
     "execution_count": 71,
     "metadata": {},
     "output_type": "execute_result"
    }
   ],
   "source": [
    "grader.check(\"q3b\")"
   ]
  },
  {
   "cell_type": "markdown",
   "metadata": {},
   "source": [
    "The following questions are based on the books_dat1.csv data set:"
   ]
  },
  {
   "cell_type": "markdown",
   "metadata": {
    "deletable": false,
    "editable": false
   },
   "source": [
    "### Question 4 - Remove NaN rows from text [3]\n",
    "\n",
    "The data can be found in 'books_dat1.csv'\n",
    "\n",
    "- Use the code provided to read the data into a dataframe and call it '**books**'\n",
    "- **Do not change the data import code**. Ensure that the file path for your dataset matches the file path given. \n",
    "- The dataset contains text from various books. \n",
    "\n",
    "Using python functions remove the rows containing 'NaN' in the text column of the books data set. The new dataset without the NaN text rows should be named '**books_new**'.\n",
    "\n",
    "**Note**: Pay attention to the variable names specified. It is important that you keep to the names specified.\n",
    "\n",
    "<!--\n",
    "BEGIN QUESTION\n",
    "name: q4\n",
    "points: \n",
    "    each: 1\n",
    "-->"
   ]
  },
  {
   "cell_type": "code",
   "execution_count": 72,
   "metadata": {
    "scrolled": true
   },
   "outputs": [
    {
     "name": "stdout",
     "output_type": "stream",
     "text": [
      "   gutenberg_id    text                  title\n",
      "0            36  cover   The War of the Worlds\n",
      "1            36     NaN  The War of the Worlds\n",
      "2            36     NaN  The War of the Worlds\n",
      "3            36     NaN  The War of the Worlds\n",
      "4            36     NaN  The War of the Worlds\n",
      "   gutenberg_id                                               text  \\\n",
      "0            36                                             cover    \n",
      "1            36                              The War of the Worlds   \n",
      "2            36                                     by H. G. Wells   \n",
      "3            36     ‘But who shall dwell in these worlds if the...   \n",
      "4            36      . . . Are we or they Lords of the World? ....   \n",
      "\n",
      "                   title  \n",
      "0  The War of the Worlds  \n",
      "1  The War of the Worlds  \n",
      "2  The War of the Worlds  \n",
      "3  The War of the Worlds  \n",
      "4  The War of the Worlds  \n"
     ]
    }
   ],
   "source": [
    "books = pd.read_csv('books_dat1.csv')\n",
    "print(books.head())\n",
    "\n",
    "books_new = books.dropna().reset_index(drop=True)\n",
    "print(books_new.head())"
   ]
  },
  {
   "cell_type": "code",
   "execution_count": 73,
   "metadata": {
    "deletable": false,
    "editable": false
   },
   "outputs": [
    {
     "data": {
      "text/html": [
       "<p><strong><pre style='display: inline;'>q4</pre></strong> passed!</p>"
      ],
      "text/plain": [
       "q4 results: All test cases passed!"
      ]
     },
     "execution_count": 73,
     "metadata": {},
     "output_type": "execute_result"
    }
   ],
   "source": [
    "grader.check(\"q4\")"
   ]
  },
  {
   "cell_type": "markdown",
   "metadata": {
    "deletable": false,
    "editable": false
   },
   "source": [
    "### Question 5 - Remove noise [2]\n",
    "\n",
    "Use python string methods and regular expressions to remove the following noise in the text column of the books_new data set,\n",
    "\n",
    "- set the case of the data set to lower case.\n",
    "- remove extra whitespaces from the text.\n",
    "- Add a column 'clean_text' containing the clean, pre-processed text.\n",
    "\n",
    "<!--\n",
    "BEGIN QUESTION\n",
    "name: q5\n",
    "points: \n",
    "    each: 1\n",
    "-->"
   ]
  },
  {
   "cell_type": "code",
   "execution_count": 74,
   "metadata": {},
   "outputs": [
    {
     "name": "stdout",
     "output_type": "stream",
     "text": [
      "       gutenberg_id                                               text  \\\n",
      "0                36                                             cover    \n",
      "1                36                              The War of the Worlds   \n",
      "2                36                                     by H. G. Wells   \n",
      "3                36     ‘But who shall dwell in these worlds if the...   \n",
      "4                36      . . . Are we or they Lords of the World? ....   \n",
      "...             ...                                                ...   \n",
      "43208          1400  I took her hand in mine, and we went out of th...   \n",
      "43209          1400  the morning mists had risen long ago when I fi...   \n",
      "43210          1400  the evening mists were rising now, and in all ...   \n",
      "43211          1400  tranquil light they showed to me, I saw no sha...   \n",
      "43212          1400                                          from her.   \n",
      "\n",
      "                       title  \\\n",
      "0      The War of the Worlds   \n",
      "1      The War of the Worlds   \n",
      "2      The War of the Worlds   \n",
      "3      The War of the Worlds   \n",
      "4      The War of the Worlds   \n",
      "...                      ...   \n",
      "43208     Great Expectations   \n",
      "43209     Great Expectations   \n",
      "43210     Great Expectations   \n",
      "43211     Great Expectations   \n",
      "43212     Great Expectations   \n",
      "\n",
      "                                              clean_text  \n",
      "0                                                  cover  \n",
      "1                                  the war of the worlds  \n",
      "2                                         by h. g. wells  \n",
      "3      ‘but who shall dwell in these worlds if they b...  \n",
      "4      . . . are we or they lords of the world? . . ....  \n",
      "...                                                  ...  \n",
      "43208  i took her hand in mine, and we went out of th...  \n",
      "43209  the morning mists had risen long ago when i fi...  \n",
      "43210  the evening mists were rising now, and in all ...  \n",
      "43211  tranquil light they showed to me, i saw no sha...  \n",
      "43212                                          from her.  \n",
      "\n",
      "[43213 rows x 4 columns]\n"
     ]
    }
   ],
   "source": [
    "books_new['clean_text'] = books_new['text'].str.lower().str.strip()\n",
    "print(books_new)\n",
    "\n",
    "#books_new.clean_text[2]\n"
   ]
  },
  {
   "cell_type": "code",
   "execution_count": 75,
   "metadata": {
    "deletable": false,
    "editable": false
   },
   "outputs": [
    {
     "data": {
      "text/html": [
       "<p><strong><pre style='display: inline;'>q5</pre></strong> passed!</p>"
      ],
      "text/plain": [
       "q5 results: All test cases passed!"
      ]
     },
     "execution_count": 75,
     "metadata": {},
     "output_type": "execute_result"
    }
   ],
   "source": [
    "grader.check(\"q5\")"
   ]
  },
  {
   "cell_type": "markdown",
   "metadata": {
    "deletable": false,
    "editable": false
   },
   "source": [
    "### Question 6 - Bag-of-Words vectorization [2]\n",
    "\n",
    "- Use the CountVectorizer module from sklearn and define an instance matrix named 'ins_matrix'\n",
    "- Use the instance matrix to tokenize and count the word occurrences of the text. Assign this tokenization to the variable 'tok'.\n",
    "- From inspecting 'tok', what is the vocabulary size? Assign this number to the variable 'vocab_size'\n",
    "- From inspecting 'tok', what is the total word count in the corpus? Assign this number to the variable 'word_count'\n",
    "\n",
    "**Note**: Use the clean_text column.\n",
    "\n",
    "<!--\n",
    "BEGIN QUESTION\n",
    "name: q6\n",
    "points: \n",
    "    each: 1\n",
    "-->"
   ]
  },
  {
   "cell_type": "code",
   "execution_count": 76,
   "metadata": {},
   "outputs": [
    {
     "name": "stdout",
     "output_type": "stream",
     "text": [
      "(43213, 18592)\n"
     ]
    }
   ],
   "source": [
    "\n",
    "ins_matrix = CountVectorizer()\n",
    "tok = ins_matrix.fit_transform(list(books_new.clean_text))\n",
    "print(tok.shape)\n",
    "\n",
    "vocab_size = len(ins_matrix.vocabulary_)\n",
    "word_count = np.sum(tok)"
   ]
  },
  {
   "cell_type": "code",
   "execution_count": 77,
   "metadata": {
    "deletable": false,
    "editable": false
   },
   "outputs": [
    {
     "data": {
      "text/html": [
       "<p><strong><pre style='display: inline;'>q6</pre></strong> passed!</p>"
      ],
      "text/plain": [
       "q6 results: All test cases passed!"
      ]
     },
     "execution_count": 77,
     "metadata": {},
     "output_type": "execute_result"
    }
   ],
   "source": [
    "grader.check(\"q6\")"
   ]
  },
  {
   "cell_type": "markdown",
   "metadata": {
    "deletable": false,
    "editable": false
   },
   "source": [
    "### Question 7 - Get the word frequency [4]\n",
    "\n",
    "Once fitted, use the feature indices\n",
    "\n",
    "- Make a list of all of the unique words in the vocabulary. Call this list 'unique_words'\n",
    "- What is the 980th word in 'unique_words'? Assign this to the variable 'word_980'\n",
    "- What is the index of the word 'elizabeth'? Assign this to the variable 'elizabeth_index'\n",
    "\n",
    "Remember, tok is the bag-of-words representation of the corpus.\n",
    "- Convert tok to an array using the to_array function. Assign this array to 'tok_array'\n",
    "- Sum across the x-axis in order to get the word frequencies. Assign this list to the variable 'sum_words'\n",
    "- What is the frequency of the word 'elizabeth'? Assign this to the variable 'elizabeth_freq'\n",
    "\n",
    "**Note**: Use the clean_text column.  \n",
    "**Hint**: Remember, Python indexing starts at 0.\n",
    "\n",
    "<!--\n",
    "BEGIN QUESTION\n",
    "name: q7\n",
    "points: \n",
    "    each: 1\n",
    "-->"
   ]
  },
  {
   "cell_type": "code",
   "execution_count": 126,
   "metadata": {},
   "outputs": [
    {
     "ename": "MemoryError",
     "evalue": "",
     "output_type": "error",
     "traceback": [
      "\u001b[1;31m---------------------------------------------------------------------------\u001b[0m",
      "\u001b[1;31mMemoryError\u001b[0m                               Traceback (most recent call last)",
      "\u001b[1;32m<ipython-input-126-8386cd48d2f8>\u001b[0m in \u001b[0;36m<module>\u001b[1;34m\u001b[0m\n\u001b[0;32m      2\u001b[0m \u001b[0mword_980\u001b[0m \u001b[1;33m=\u001b[0m \u001b[0munique_words\u001b[0m\u001b[1;33m[\u001b[0m\u001b[1;36m979\u001b[0m\u001b[1;33m]\u001b[0m\u001b[1;33m\u001b[0m\u001b[1;33m\u001b[0m\u001b[0m\n\u001b[0;32m      3\u001b[0m \u001b[0melizabeth_index\u001b[0m \u001b[1;33m=\u001b[0m \u001b[0munique_words\u001b[0m\u001b[1;33m.\u001b[0m\u001b[0mindex\u001b[0m\u001b[1;33m(\u001b[0m\u001b[1;34m\"elizabeth\"\u001b[0m\u001b[1;33m)\u001b[0m\u001b[1;33m\u001b[0m\u001b[1;33m\u001b[0m\u001b[0m\n\u001b[1;32m----> 4\u001b[1;33m \u001b[0mtok_array\u001b[0m \u001b[1;33m=\u001b[0m \u001b[0mtok\u001b[0m\u001b[1;33m.\u001b[0m\u001b[0mtoarray\u001b[0m\u001b[1;33m(\u001b[0m\u001b[1;33m)\u001b[0m\u001b[1;33m\u001b[0m\u001b[1;33m\u001b[0m\u001b[0m\n\u001b[0m\u001b[0;32m      5\u001b[0m \u001b[0msum_words\u001b[0m \u001b[1;33m=\u001b[0m \u001b[0mtok_array\u001b[0m\u001b[1;33m.\u001b[0m\u001b[0msum\u001b[0m\u001b[1;33m(\u001b[0m\u001b[0maxis\u001b[0m\u001b[1;33m=\u001b[0m\u001b[1;36m0\u001b[0m\u001b[1;33m)\u001b[0m\u001b[1;33m\u001b[0m\u001b[1;33m\u001b[0m\u001b[0m\n\u001b[0;32m      6\u001b[0m \u001b[0melizabeth_freq\u001b[0m \u001b[1;33m=\u001b[0m \u001b[0msum_words\u001b[0m\u001b[1;33m[\u001b[0m\u001b[1;36m5640\u001b[0m\u001b[1;33m]\u001b[0m\u001b[1;33m\u001b[0m\u001b[1;33m\u001b[0m\u001b[0m\n",
      "\u001b[1;32m~\\Anaconda3\\lib\\site-packages\\scipy\\sparse\\compressed.py\u001b[0m in \u001b[0;36mtoarray\u001b[1;34m(self, order, out)\u001b[0m\n\u001b[0;32m   1022\u001b[0m         \u001b[1;32mif\u001b[0m \u001b[0mout\u001b[0m \u001b[1;32mis\u001b[0m \u001b[1;32mNone\u001b[0m \u001b[1;32mand\u001b[0m \u001b[0morder\u001b[0m \u001b[1;32mis\u001b[0m \u001b[1;32mNone\u001b[0m\u001b[1;33m:\u001b[0m\u001b[1;33m\u001b[0m\u001b[1;33m\u001b[0m\u001b[0m\n\u001b[0;32m   1023\u001b[0m             \u001b[0morder\u001b[0m \u001b[1;33m=\u001b[0m \u001b[0mself\u001b[0m\u001b[1;33m.\u001b[0m\u001b[0m_swap\u001b[0m\u001b[1;33m(\u001b[0m\u001b[1;34m'cf'\u001b[0m\u001b[1;33m)\u001b[0m\u001b[1;33m[\u001b[0m\u001b[1;36m0\u001b[0m\u001b[1;33m]\u001b[0m\u001b[1;33m\u001b[0m\u001b[1;33m\u001b[0m\u001b[0m\n\u001b[1;32m-> 1024\u001b[1;33m         \u001b[0mout\u001b[0m \u001b[1;33m=\u001b[0m \u001b[0mself\u001b[0m\u001b[1;33m.\u001b[0m\u001b[0m_process_toarray_args\u001b[0m\u001b[1;33m(\u001b[0m\u001b[0morder\u001b[0m\u001b[1;33m,\u001b[0m \u001b[0mout\u001b[0m\u001b[1;33m)\u001b[0m\u001b[1;33m\u001b[0m\u001b[1;33m\u001b[0m\u001b[0m\n\u001b[0m\u001b[0;32m   1025\u001b[0m         \u001b[1;32mif\u001b[0m \u001b[1;32mnot\u001b[0m \u001b[1;33m(\u001b[0m\u001b[0mout\u001b[0m\u001b[1;33m.\u001b[0m\u001b[0mflags\u001b[0m\u001b[1;33m.\u001b[0m\u001b[0mc_contiguous\u001b[0m \u001b[1;32mor\u001b[0m \u001b[0mout\u001b[0m\u001b[1;33m.\u001b[0m\u001b[0mflags\u001b[0m\u001b[1;33m.\u001b[0m\u001b[0mf_contiguous\u001b[0m\u001b[1;33m)\u001b[0m\u001b[1;33m:\u001b[0m\u001b[1;33m\u001b[0m\u001b[1;33m\u001b[0m\u001b[0m\n\u001b[0;32m   1026\u001b[0m             \u001b[1;32mraise\u001b[0m \u001b[0mValueError\u001b[0m\u001b[1;33m(\u001b[0m\u001b[1;34m'Output array must be C or F contiguous'\u001b[0m\u001b[1;33m)\u001b[0m\u001b[1;33m\u001b[0m\u001b[1;33m\u001b[0m\u001b[0m\n",
      "\u001b[1;32m~\\Anaconda3\\lib\\site-packages\\scipy\\sparse\\base.py\u001b[0m in \u001b[0;36m_process_toarray_args\u001b[1;34m(self, order, out)\u001b[0m\n\u001b[0;32m   1184\u001b[0m             \u001b[1;32mreturn\u001b[0m \u001b[0mout\u001b[0m\u001b[1;33m\u001b[0m\u001b[1;33m\u001b[0m\u001b[0m\n\u001b[0;32m   1185\u001b[0m         \u001b[1;32melse\u001b[0m\u001b[1;33m:\u001b[0m\u001b[1;33m\u001b[0m\u001b[1;33m\u001b[0m\u001b[0m\n\u001b[1;32m-> 1186\u001b[1;33m             \u001b[1;32mreturn\u001b[0m \u001b[0mnp\u001b[0m\u001b[1;33m.\u001b[0m\u001b[0mzeros\u001b[0m\u001b[1;33m(\u001b[0m\u001b[0mself\u001b[0m\u001b[1;33m.\u001b[0m\u001b[0mshape\u001b[0m\u001b[1;33m,\u001b[0m \u001b[0mdtype\u001b[0m\u001b[1;33m=\u001b[0m\u001b[0mself\u001b[0m\u001b[1;33m.\u001b[0m\u001b[0mdtype\u001b[0m\u001b[1;33m,\u001b[0m \u001b[0morder\u001b[0m\u001b[1;33m=\u001b[0m\u001b[0morder\u001b[0m\u001b[1;33m)\u001b[0m\u001b[1;33m\u001b[0m\u001b[1;33m\u001b[0m\u001b[0m\n\u001b[0m\u001b[0;32m   1187\u001b[0m \u001b[1;33m\u001b[0m\u001b[0m\n\u001b[0;32m   1188\u001b[0m \u001b[1;33m\u001b[0m\u001b[0m\n",
      "\u001b[1;31mMemoryError\u001b[0m: "
     ]
    }
   ],
   "source": [
    "unique_words = ins_matrix.get_feature_names()\n",
    "word_980 = unique_words[979]\n",
    "elizabeth_index = unique_words.index(\"elizabeth\")\n",
    "tok_array = tok.toarray()\n",
    "sum_words = tok_array.sum(axis=0)\n",
    "elizabeth_freq = sum_words[5640]\n",
    "\n",
    "#print(elizabeth_index)\n"
   ]
  },
  {
   "cell_type": "code",
   "execution_count": 127,
   "metadata": {
    "deletable": false,
    "editable": false
   },
   "outputs": [
    {
     "data": {
      "text/html": [
       "<p><strong><pre style='display: inline;'>q7</pre></strong> passed!</p>"
      ],
      "text/plain": [
       "q7 results: All test cases passed!"
      ]
     },
     "execution_count": 127,
     "metadata": {},
     "output_type": "execute_result"
    }
   ],
   "source": [
    "grader.check(\"q7\")"
   ]
  },
  {
   "cell_type": "markdown",
   "metadata": {
    "deletable": false,
    "editable": false
   },
   "source": [
    "### Question 8 - Write a function to find the top 20 non-stopword features in 'unique_words' [4]\n",
    "\n",
    "- Function name: top_20_features  \n",
    "- Input: text  \n",
    "- Output: A list of tuples where the first tuple item is the word and the second tuple item is the frequency. Call this list 'top_20'\n",
    "\n",
    "**Note**: Use the clean_text column. \n",
    "\n",
    "<!--\n",
    "BEGIN QUESTION\n",
    "name: q8\n",
    "points: \n",
    "    each: 1\n",
    "-->"
   ]
  },
  {
   "cell_type": "code",
   "execution_count": 148,
   "metadata": {},
   "outputs": [
    {
     "name": "stdout",
     "output_type": "stream",
     "text": [
      "[('said', 2250), ('mr', 1506), ('did', 846), ('time', 845), ('know', 763), ('little', 751), ('joe', 747), ('man', 726), ('like', 711), ('miss', 676), ('captain', 654), ('elizabeth', 634), ('saw', 608), ('day', 583), ('come', 579), ('went', 570), ('say', 554), ('came', 549), ('think', 545), ('good', 545)]\n"
     ]
    }
   ],
   "source": [
    "\n",
    "def top_20_features(text):\n",
    "    \n",
    "    vec = CountVectorizer(stop_words = 'english')\n",
    "    bag_of_words = vec.fit_transform(text)\n",
    "    sum_words = bag_of_words.sum(axis=0) \n",
    "    words_freq = [(word, sum_words[0, index]) for word, index in vec.vocabulary_.items()]\n",
    "    words_freq =sorted(words_freq, key = lambda x: x[1], reverse=True)\n",
    "    return words_freq[:20]\n",
    "\n",
    "text = list(books_new.clean_text)\n",
    "top_20 = top_20_features(text)\n",
    "print(top_20)\n"
   ]
  },
  {
   "cell_type": "code",
   "execution_count": 144,
   "metadata": {
    "deletable": false,
    "editable": false,
    "scrolled": true
   },
   "outputs": [
    {
     "data": {
      "text/html": [
       "<p><strong><pre style='display: inline;'>q8</pre></strong> passed!</p>"
      ],
      "text/plain": [
       "q8 results: All test cases passed!"
      ]
     },
     "execution_count": 144,
     "metadata": {},
     "output_type": "execute_result"
    }
   ],
   "source": [
    "grader.check(\"q8\")"
   ]
  },
  {
   "cell_type": "markdown",
   "metadata": {
    "deletable": false,
    "editable": false
   },
   "source": [
    "<!-- BEGIN QUESTION -->\n",
    "\n",
    "### Question 9 - Plot the top 20 non-stopword features as a bar plot [3]\n",
    "\n",
    "- Rotate the x-axis in order for the words not to overlap\n",
    "- Provide an appropriate title\n",
    "\n",
    "<!--\n",
    "BEGIN QUESTION\n",
    "name: q9\n",
    "manual: true\n",
    "points: 3\n",
    "-->"
   ]
  },
  {
   "cell_type": "code",
   "execution_count": 145,
   "metadata": {},
   "outputs": [
    {
     "data": {
      "image/png": "[encoded data removed]",
      "text/plain": [
       "<Figure size 432x288 with 1 Axes>"
      ]
     },
     "metadata": {
      "needs_background": "light"
     },
     "output_type": "display_data"
    }
   ],
   "source": [
    "#%matplotlib inline\n",
    "#import matplotlib.pyplot as plt\n",
    "plt.bar(range(20), [val[1] for val in top_20], align='center')\n",
    "plt.xticks(range(20), [val[0] for val in top_20])\n",
    "plt.xticks(rotation=60)\n",
    "plt.title('Frequency of top 20 non-stopwords in the books clean_text corpus')\n",
    "plt.show()"
   ]
  },
  {
   "cell_type": "markdown",
   "metadata": {
    "deletable": false,
    "editable": false
   },
   "source": [
    "<!-- END QUESTION -->\n",
    "\n",
    "<!-- BEGIN QUESTION -->\n",
    "\n",
    "### Question 10 - Plot a wordcloud for text [2]\n",
    "\n",
    "- Plot a wordcloud for the text column.\n",
    "\n",
    "- Use randomstate = 25\n",
    "\n",
    "**Note**: Use the all_clean_text variable given which is obtained by the clean_text variable. \n",
    "\n",
    "<!--\n",
    "BEGIN QUESTION\n",
    "name: q10\n",
    "manual: true\n",
    "points: 2\n",
    "-->"
   ]
  },
  {
   "cell_type": "code",
   "execution_count": 149,
   "metadata": {},
   "outputs": [
    {
     "data": {
      "image/png": "[encoded data removed]",
      "text/plain": [
       "<Figure size 576x576 with 1 Axes>"
      ]
     },
     "metadata": {
      "needs_background": "light"
     },
     "output_type": "display_data"
    }
   ],
   "source": [
    "all_clean_text = \" \".join(clean_text for clean_text in clean_text)\n",
    "wordcloud_text = WordCloud(background_color = \"white\", random_state = 25).generate(all_clean_text)\n",
    "\n",
    "plt.figure(figsize = (8,8))\n",
    "plt.imshow(wordcloud_text, interpolation = \"bilinear\")\n",
    "plt.axis(\"off\")\n",
    "plt.show()"
   ]
  },
  {
   "cell_type": "markdown",
   "metadata": {
    "deletable": false,
    "editable": false
   },
   "source": [
    "---\n",
    "\n",
    "To double-check your work, the cell below will rerun all of the autograder tests."
   ]
  },
  {
   "cell_type": "code",
   "execution_count": null,
   "metadata": {
    "deletable": false,
    "editable": false
   },
   "outputs": [],
   "source": [
    "grader.check_all()"
   ]
  },
  {
   "cell_type": "markdown",
   "metadata": {
    "deletable": false,
    "editable": false
   },
   "source": [
    "## Submission\n",
    "\n",
    "Make sure you have run all cells in your notebook in order before running the cell below, so that all images/graphs appear in the output. The cell below will generate a zip file for you to submit. **Please save before exporting!**"
   ]
  },
  {
   "cell_type": "code",
   "execution_count": null,
   "metadata": {
    "deletable": false,
    "editable": false
   },
   "outputs": [],
   "source": [
    "# Save your notebook first, then run this cell to export your submission.\n",
    "grader.export(pdf=False)"
   ]
  },
  {
   "cell_type": "markdown",
   "metadata": {},
   "source": [
    " "
   ]
  }
 ],
 "metadata": {
  "kernelspec": {
   "display_name": "Python 3",
   "language": "python",
   "name": "python3"
  },
  "language_info": {
   "codemirror_mode": {
    "name": "ipython",
    "version": 3
   },
   "file_extension": ".py",
   "mimetype": "text/x-python",
   "name": "python",
   "nbconvert_exporter": "python",
   "pygments_lexer": "ipython3",
   "version": "3.7.4"
  }
 },
 "nbformat": 4,
 "nbformat_minor": 5
}
