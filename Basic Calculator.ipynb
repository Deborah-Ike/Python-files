{
 "cells": [
  {
   "cell_type": "code",
   "execution_count": 1,
   "id": "e7c8cf28",
   "metadata": {},
   "outputs": [],
   "source": [
    "import tkinter as tk\n"
   ]
  },
  {
   "cell_type": "code",
   "execution_count": 2,
   "id": "d11d98ec",
   "metadata": {},
   "outputs": [],
   "source": [
    "def button_click(number):\n",
    "    current = entry.get()\n",
    "    entry.delete(0, tk.END)\n",
    "    entry.insert(tk.END, current + str(number))"
   ]
  },
  {
   "cell_type": "code",
   "execution_count": 3,
   "id": "7a758791",
   "metadata": {},
   "outputs": [],
   "source": [
    "def button_clear():\n",
    "    entry.delete(0, tk.END)"
   ]
  },
  {
   "cell_type": "code",
   "execution_count": 4,
   "id": "09f736e1",
   "metadata": {},
   "outputs": [],
   "source": [
    "def button_equal():\n",
    "    result = eval(entry.get())\n",
    "    entry.delete(0, tk.END)\n",
    "    entry.insert(tk.END, result)"
   ]
  },
  {
   "cell_type": "code",
   "execution_count": 5,
   "id": "59af832a",
   "metadata": {},
   "outputs": [
    {
     "data": {
      "text/plain": [
       "''"
      ]
     },
     "execution_count": 5,
     "metadata": {},
     "output_type": "execute_result"
    }
   ],
   "source": [
    "# Create the main window\n",
    "window = tk.Tk()\n",
    "window.title(\"Calculator\")\n"
   ]
  },
  {
   "cell_type": "code",
   "execution_count": 6,
   "id": "a7ad0b0a",
   "metadata": {},
   "outputs": [],
   "source": [
    "# Create the entry field\n",
    "entry = tk.Entry(window, width=25, font=(\"Arial\", 14))\n",
    "entry.grid(row=0, column=0, columnspan=4, padx=10, pady=10)\n"
   ]
  },
  {
   "cell_type": "code",
   "execution_count": 7,
   "id": "d856b4e4",
   "metadata": {},
   "outputs": [],
   "source": [
    "# Create the number buttons\n",
    "button_1 = tk.Button(window, text=\"1\", padx=20, pady=10, font=(\"Arial\", 12),\n",
    "                     command=lambda: button_click(1))\n",
    "button_2 = tk.Button(window, text=\"2\", padx=20, pady=10, font=(\"Arial\", 12),\n",
    "                     command=lambda: button_click(2))\n",
    "button_3 = tk.Button(window, text=\"3\", padx=20, pady=10, font=(\"Arial\", 12),\n",
    "                     command=lambda: button_click(3))\n",
    "button_4 = tk.Button(window, text=\"4\", padx=20, pady=10, font=(\"Arial\", 12),\n",
    "                     command=lambda: button_click(4))\n",
    "button_5 = tk.Button(window, text=\"5\", padx=20, pady=10, font=(\"Arial\", 12),\n",
    "                     command=lambda: button_click(5))\n",
    "button_6 = tk.Button(window, text=\"6\", padx=20, pady=10, font=(\"Arial\", 12),\n",
    "                     command=lambda: button_click(6))\n",
    "button_7 = tk.Button(window, text=\"7\", padx=20, pady=10, font=(\"Arial\", 12),\n",
    "                     command=lambda: button_click(7))\n",
    "button_8 = tk.Button(window, text=\"8\", padx=20, pady=10, font=(\"Arial\", 12),\n",
    "                     command=lambda: button_click(8))\n",
    "button_9 = tk.Button(window, text=\"9\", padx=20, pady=10, font=(\"Arial\", 12),\n",
    "                     command=lambda: button_click(9))\n",
    "button_0 = tk.Button(window, text=\"0\", padx=20, pady=10, font=(\"Arial\", 12),\n",
    "                     command=lambda: button_click(0))\n",
    "\n",
    "button_1.grid(row=1, column=0)\n",
    "button_2.grid(row=1, column=1)\n",
    "button_3.grid(row=1, column=2)\n",
    "button_4.grid(row=2, column=0)\n",
    "button_5.grid(row=2, column=1)\n",
    "button_6.grid(row=2, column=2)\n",
    "button_7.grid(row=3, column=0)\n",
    "button_8.grid(row=3, column=1)\n",
    "button_9.grid(row=3, column=2)\n",
    "button_0.grid(row=4, column=1)\n"
   ]
  },
  {
   "cell_type": "code",
   "execution_count": 8,
   "id": "67395bbf",
   "metadata": {},
   "outputs": [],
   "source": [
    "# Create the operator buttons\n",
    "button_plus = tk.Button(window, text=\"+\", padx=20, pady=10, font=(\"Arial\", 12),\n",
    "                        command=lambda: button_click(\"+\"))\n",
    "button_minus = tk.Button(window, text=\"-\", padx=20, pady=10, font=(\"Arial\", 12),\n",
    "                         command=lambda: button_click(\"-\"))\n",
    "button_multiply = tk.Button(window, text=\"*\", padx=20, pady=10, font=(\"Arial\", 12),\n",
    "                            command=lambda: button_click(\"*\"))\n",
    "button_divide = tk.Button(window, text=\"/\", padx=20, pady=10, font=(\"Arial\", 12),\n",
    "                          command=lambda: button_click(\"/\"))\n",
    "\n",
    "button_plus.grid(row=1, column=3)\n",
    "button_minus.grid(row=2, column=3)\n",
    "button_multiply.grid(row=3, column=3)\n",
    "button_divide.grid(row=4, column=3)"
   ]
  },
  {
   "cell_type": "code",
   "execution_count": 9,
   "id": "c457abd4",
   "metadata": {},
   "outputs": [],
   "source": [
    "# Create the other buttons\n",
    "button_clear = tk.Button(window, text=\"C\", padx=20, pady=10, font=(\"Arial\", 12),\n",
    "                         command=button_clear)\n",
    "button_equal = tk.Button(window, text=\"=\", padx=20, pady=10, font=(\"Arial\", 12),\n",
    "                         command=button_equal)\n",
    "\n",
    "button_clear.grid(row=4, column=0)\n",
    "button_equal.grid(row=4, column=2)"
   ]
  },
  {
   "cell_type": "code",
   "execution_count": null,
   "id": "fc727a2e",
   "metadata": {},
   "outputs": [],
   "source": [
    "# Start the Tkinter event loop\n",
    "window.mainloop()"
   ]
  },
  {
   "cell_type": "code",
   "execution_count": null,
   "id": "a485ccaf",
   "metadata": {},
   "outputs": [],
   "source": []
  }
 ],
 "metadata": {
  "kernelspec": {
   "display_name": "Python 3 (ipykernel)",
   "language": "python",
   "name": "python3"
  },
  "language_info": {
   "codemirror_mode": {
    "name": "ipython",
    "version": 3
   },
   "file_extension": ".py",
   "mimetype": "text/x-python",
   "name": "python",
   "nbconvert_exporter": "python",
   "pygments_lexer": "ipython3",
   "version": "3.10.9"
  }
 },
 "nbformat": 4,
 "nbformat_minor": 5
}
