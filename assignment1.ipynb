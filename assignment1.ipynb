{
 "cells": [
  {
   "cell_type": "code",
   "execution_count": 1,
   "metadata": {
    "deletable": false,
    "editable": false
   },
   "outputs": [],
   "source": [
    "# Initialize Otter\n",
    "import otter\n",
    "grader = otter.Notebook(\"assignment1.ipynb\")"
   ]
  },
  {
   "cell_type": "markdown",
   "metadata": {},
   "source": [
    "# STK353 Assignemnt 1\n",
    "\n",
    "## Instructions: \n",
    "    \n",
    "   - Complete all questions \n",
    "   - remember to restart your kernel and run all cells before submitting.\n",
    "   - Submit only the `ipynb` file | No need to rename it.\n",
    "   - Note the -> [str] at the end of functions. This is a type hint which tells you what output your function will be returning, [str] means it will return a list of strings; def fun(arg) -> float: means the function will return a float \n"
   ]
  },
  {
   "cell_type": "markdown",
   "metadata": {},
   "source": [
    "**Question 1**: Write a function that takes in an integer $n$ and `returns` $i^2$ for all non-negative integers $i < n$\n",
    "\n",
    "__Example__:\n",
    "\n",
    "The list of non-negative integers that are less than $n = 3$ is `[0, 1, 2]`. `Return` the square of each number on a separate line gives: `[0, 1, 4]`\n",
    "\n",
    "\n"
   ]
  },
  {
   "cell_type": "code",
   "execution_count": 11,
   "metadata": {
    "tags": []
   },
   "outputs": [],
   "source": [
    "def square_int(n) -> [float]:\n",
    "    result = [i**2 for i in range(n)]\n",
    "    return result"
   ]
  },
  {
   "cell_type": "code",
   "execution_count": 12,
   "metadata": {},
   "outputs": [
    {
     "data": {
      "text/plain": [
       "[0, 1, 4]"
      ]
     },
     "execution_count": 12,
     "metadata": {},
     "output_type": "execute_result"
    }
   ],
   "source": [
    "square_int(3)"
   ]
  },
  {
   "cell_type": "code",
   "execution_count": 13,
   "metadata": {
    "deletable": false,
    "editable": false
   },
   "outputs": [
    {
     "data": {
      "text/html": [
       "<p><strong><pre style='display: inline;'>q1</pre></strong> passed!</p>"
      ],
      "text/plain": [
       "q1 results: All test cases passed!"
      ]
     },
     "execution_count": 13,
     "metadata": {},
     "output_type": "execute_result"
    }
   ],
   "source": [
    "grader.check(\"q1\")"
   ]
  },
  {
   "cell_type": "markdown",
   "metadata": {},
   "source": [
    "**Question 2 (a):** You're provided the following students with their Test 1, Test 2 and Test 3 marks.\n",
    "\n",
    "<span style=\"color:darkred\">__Krishna = 56, 68, 80; Arjun = 79, 98, 56; Malika = 23, 43, 69__</span>\n",
    "- Create a dictionary called marks to hold this data\n"
   ]
  },
  {
   "cell_type": "code",
   "execution_count": 14,
   "metadata": {
    "tags": []
   },
   "outputs": [],
   "source": [
    "marks = {\"Krishna\": [56, 68, 80] ,\"Arjun\": [79, 98, 56], \"Malika\" : [23, 43, 69]}"
   ]
  },
  {
   "cell_type": "code",
   "execution_count": 15,
   "metadata": {
    "deletable": false,
    "editable": false
   },
   "outputs": [
    {
     "data": {
      "text/html": [
       "<p><strong><pre style='display: inline;'>q2_a</pre></strong> passed!</p>"
      ],
      "text/plain": [
       "q2_a results: All test cases passed!"
      ]
     },
     "execution_count": 15,
     "metadata": {},
     "output_type": "execute_result"
    }
   ],
   "source": [
    "grader.check(\"q2_a\")"
   ]
  },
  {
   "cell_type": "markdown",
   "metadata": {},
   "source": [
    "**Question 2 (b):** Create a function that computes the mean of every student and returns the mean as a formatted float. i.e. \n",
    "   ['68.00', '77.00', '56.00']\n",
    "   \n",
    "- Hint: [Please use `\"%.2f\" % value` string formatting to get two decimal places in your average ie. xx.xx ](https://thepythonguru.com/python-string-formatting/#:~:text=2f%20is%20a%20placeholder%20for,by%20second%20value%20i.e%20150.87612%20.)\n"
   ]
  },
  {
   "cell_type": "code",
   "execution_count": 28,
   "metadata": {
    "tags": []
   },
   "outputs": [],
   "source": [
    "def get_avg(marks)-> [str]:\n",
    "    avg_mark = [ \"%.2f\" % (sum(i) / len(i)) for i in marks.values()] \n",
    "    return avg_mark"
   ]
  },
  {
   "cell_type": "code",
   "execution_count": 29,
   "metadata": {},
   "outputs": [
    {
     "data": {
      "text/plain": [
       "['68.00', '77.67', '45.00']"
      ]
     },
     "execution_count": 29,
     "metadata": {},
     "output_type": "execute_result"
    }
   ],
   "source": [
    "get_avg(marks)"
   ]
  },
  {
   "cell_type": "code",
   "execution_count": 18,
   "metadata": {
    "deletable": false,
    "editable": false
   },
   "outputs": [
    {
     "data": {
      "text/html": [
       "<p><strong><pre style='display: inline;'>q2_b</pre></strong> passed!</p>"
      ],
      "text/plain": [
       "q2_b results: All test cases passed!"
      ]
     },
     "execution_count": 18,
     "metadata": {},
     "output_type": "execute_result"
    }
   ],
   "source": [
    "grader.check(\"q2_b\")"
   ]
  },
  {
   "cell_type": "markdown",
   "metadata": {},
   "source": [
    "**Question 2 (c):** Create a decorator called `append_percentage` to append the percentage sign at the end of each mean. \n",
    "\n",
    "**Expected output**: *['68.00%', '77.67%', '45.00%']*\n"
   ]
  },
  {
   "cell_type": "code",
   "execution_count": 31,
   "metadata": {
    "tags": []
   },
   "outputs": [],
   "source": [
    "def append_percentage(func) -> [str]:\n",
    "    return func\n",
    "   # ...\n",
    "\n",
    "@append_percentage\n",
    "def get_avg(marks):\n",
    "    avg_marks = { Average_marks: \"%.2f\" % (sum(i) / len(i)) for Average_marks, i in marks.items()}\n",
    "    return list(map(\"{}%\".format,(avg_marks.values())))\n",
    "    ..."
   ]
  },
  {
   "cell_type": "code",
   "execution_count": 32,
   "metadata": {},
   "outputs": [
    {
     "data": {
      "text/plain": [
       "['68.00%', '77.67%', '45.00%']"
      ]
     },
     "execution_count": 32,
     "metadata": {},
     "output_type": "execute_result"
    }
   ],
   "source": [
    "get_avg(marks)"
   ]
  },
  {
   "cell_type": "markdown",
   "metadata": {
    "deletable": false,
    "editable": false
   },
   "source": [
    "---\n",
    "\n",
    "To double-check your work, the cell below will rerun all of the autograder tests."
   ]
  },
  {
   "cell_type": "code",
   "execution_count": 33,
   "metadata": {
    "deletable": false,
    "editable": false
   },
   "outputs": [
    {
     "data": {
      "text/plain": [
       "q1 results: All test cases passed!\n",
       "\n",
       "q2_a results: All test cases passed!\n",
       "\n",
       "q2_b results:\n",
       "    q2_b - 1 result:\n",
       "        Test case passed!\n",
       "\n",
       "    q2_b - 2 result:\n",
       "        Test case passed!\n",
       "\n",
       "    q2_b - 3 result:\n",
       "        Trying:\n",
       "            get_avg({'Krishna': [56, 68, 80] ,'Arjun': [79, 98, 56], 'Malika' : [23, 43, 69]}) == ['68.00', '77.67', '45.00']\n",
       "        Expecting:\n",
       "            True\n",
       "        **********************************************************************\n",
       "        Line 1, in q2_b 2\n",
       "        Failed example:\n",
       "            get_avg({'Krishna': [56, 68, 80] ,'Arjun': [79, 98, 56], 'Malika' : [23, 43, 69]}) == ['68.00', '77.67', '45.00']\n",
       "        Expected:\n",
       "            True\n",
       "        Got:\n",
       "            False\n",
       "\n",
       "q2_c results: All test cases passed!"
      ]
     },
     "execution_count": 33,
     "metadata": {},
     "output_type": "execute_result"
    }
   ],
   "source": [
    "grader.check_all()"
   ]
  }
 ],
 "metadata": {
  "celltoolbar": "Edit Metadata",
  "kernelspec": {
   "display_name": "Python 3",
   "language": "python",
   "name": "python3"
  },
  "language_info": {
   "codemirror_mode": {
    "name": "ipython",
    "version": 3
   },
   "file_extension": ".py",
   "mimetype": "text/x-python",
   "name": "python",
   "nbconvert_exporter": "python",
   "pygments_lexer": "ipython3",
   "version": "3.7.4"
  },
  "otter": {
   "tests": {
    "q1": {
     "name": "q1",
     "points": [
      2,
      3
     ],
     "suites": [
      {
       "cases": [
        {
         "code": ">>> isinstance(square_int(2), list)\nTrue",
         "hidden": false,
         "locked": false
        }
       ],
       "scored": true,
       "setup": "",
       "teardown": "",
       "type": "doctest"
      }
     ]
    },
    "q2_a": {
     "name": "q2_a",
     "points": [
      1,
      1,
      1
     ],
     "suites": [
      {
       "cases": [
        {
         "code": ">>> isinstance(marks, dict)\nTrue",
         "hidden": false,
         "locked": false
        }
       ],
       "scored": true,
       "setup": "",
       "teardown": "",
       "type": "doctest"
      }
     ]
    },
    "q2_b": {
     "name": "q2_b",
     "points": 6,
     "suites": [
      {
       "cases": [
        {
         "code": ">>> marks = {'Krishna': [1] ,'Arjun': [2], 'Malika' : [3]}\n>>> assert isinstance(get_avg(marks), list)\n",
         "hidden": false,
         "locked": false
        }
       ],
       "scored": true,
       "setup": "",
       "teardown": "",
       "type": "doctest"
      }
     ]
    },
    "q2_c": {
     "name": "q2_c",
     "points": [
      2,
      2
     ],
     "suites": [
      {
       "cases": [],
       "scored": true,
       "setup": "",
       "teardown": "",
       "type": "doctest"
      }
     ]
    }
   }
  },
  "varInspector": {
   "cols": {
    "lenName": 16,
    "lenType": 16,
    "lenVar": 40
   },
   "kernels_config": {
    "python": {
     "delete_cmd_postfix": "",
     "delete_cmd_prefix": "del ",
     "library": "var_list.py",
     "varRefreshCmd": "print(var_dic_list())"
    },
    "r": {
     "delete_cmd_postfix": ") ",
     "delete_cmd_prefix": "rm(",
     "library": "var_list.r",
     "varRefreshCmd": "cat(var_dic_list()) "
    }
   },
   "types_to_exclude": [
    "module",
    "function",
    "builtin_function_or_method",
    "instance",
    "_Feature"
   ],
   "window_display": false
  }
 },
 "nbformat": 4,
 "nbformat_minor": 4
}
