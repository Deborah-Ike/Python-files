{
 "cells": [
  {
   "cell_type": "code",
   "execution_count": 1,
   "id": "6895e9de",
   "metadata": {},
   "outputs": [
    {
     "name": "stdout",
     "output_type": "stream",
     "text": [
      "nfts\n",
      "checkpoint\n",
      "mints\n",
      "transfers\n",
      "transfer_values_quartile_10_distribution_per_address\n",
      "current_owners\n",
      "current_market_values\n",
      "market_values_distribution\n",
      "transfer_statistics_by_address\n",
      "transfer_values_quantile_10_distribution_per_address\n",
      "transfer_values_quantile_25_distribution_per_address\n",
      "transfers_mints\n",
      "mint_holding_times\n",
      "transfer_holding_times\n",
      "ownership_transitions\n"
     ]
    }
   ],
   "source": [
    "import sqlite3\n",
    "\n",
    "# Connect to the SQLite database file\n",
    "conn = sqlite3.connect(r'C:\\Users\\ikeoy\\Downloads\\archive\\nfts.sqlite')\n",
    "\n",
    "# Create a cursor object to execute SQL queries\n",
    "cursor = conn.cursor()\n",
    "\n",
    "# Execute a query to fetch all table names\n",
    "cursor.execute(\"SELECT name FROM sqlite_master WHERE type='table';\")\n",
    "\n",
    "# Fetch all table names returned by the query\n",
    "tables = cursor.fetchall()\n",
    "\n",
    "# Iterate over the table names and print them\n",
    "for table in tables:\n",
    "    print(table[0])"
   ]
  },
  {
   "cell_type": "code",
   "execution_count": 2,
   "id": "7c87ee14",
   "metadata": {},
   "outputs": [
    {
     "name": "stdout",
     "output_type": "stream",
     "text": [
      "('0x00000000000b7F8E8E8Ad148f9d53303Bfe20796', '0', 30000000000000000)\n",
      "('0x00000000000b7F8E8E8Ad148f9d53303Bfe20796', '1', 150000000000000000)\n",
      "('0x00000000000b7F8E8E8Ad148f9d53303Bfe20796', '10', 150000000000000000)\n",
      "('0x00000000000b7F8E8E8Ad148f9d53303Bfe20796', '11', 30000000000000000)\n",
      "('0x00000000000b7F8E8E8Ad148f9d53303Bfe20796', '12', 90000000000000000)\n"
     ]
    }
   ],
   "source": [
    " import sqlite3\n",
    "\n",
    "# Connect to the SQLite database file\n",
    "conn = sqlite3.connect(r'C:\\Users\\ikeoy\\Downloads\\archive\\nfts.sqlite')\n",
    "\n",
    "# Create a cursor object to execute SQL queries\n",
    "cursor = conn.cursor()\n",
    "\n",
    "# Execute a query to retrieve a few data entries from a table\n",
    "cursor.execute(\"SELECT * FROM current_market_values LIMIT 5\")\n",
    "data_entries = cursor.fetchall()\n",
    "\n",
    "\n",
    "# Print the retrieved data entries\n",
    "for entry in data_entries:\n",
    "    print(entry)\n"
   ]
  },
  {
   "cell_type": "markdown",
   "id": "27dee78c",
   "metadata": {},
   "source": [
    "# Data Cleaning"
   ]
  },
  {
   "cell_type": "code",
   "execution_count": 3,
   "id": "fe7a3010",
   "metadata": {},
   "outputs": [],
   "source": [
    "import pandas as pd\n",
    "import numpy as np\n",
    "import matplotlib.pyplot as plt\n"
   ]
  },
  {
   "cell_type": "code",
   "execution_count": 4,
   "id": "5db9adcb",
   "metadata": {},
   "outputs": [],
   "source": [
    "# Load the dataset into a pandas DataFrame\n",
    "current_market_values_df = pd.read_sql_query(\"SELECT * FROM current_market_values\", conn)"
   ]
  },
  {
   "cell_type": "code",
   "execution_count": 5,
   "id": "7dcd2a33",
   "metadata": {},
   "outputs": [],
   "source": [
    "current_market_values_df = current_market_values_df.dropna()"
   ]
  },
  {
   "cell_type": "code",
   "execution_count": 7,
   "id": "952a1250",
   "metadata": {},
   "outputs": [],
   "source": [
    "current_market_values_df = current_market_values_df.drop_duplicates()"
   ]
  },
  {
   "cell_type": "code",
   "execution_count": 9,
   "id": "738a0e6c",
   "metadata": {},
   "outputs": [],
   "source": [
    "# Convert columns to appropriate data types\n",
    "current_market_values_df['nft_address'] = current_market_values_df['nft_address'].astype(str)\n",
    "current_market_values_df['token_id'] = current_market_values_df['token_id'].astype(float)  \n",
    "current_market_values_df['market_value'] = current_market_values_df['market_value'].astype(float)"
   ]
  },
  {
   "cell_type": "code",
   "execution_count": 23,
   "id": "4694d9dc",
   "metadata": {},
   "outputs": [],
   "source": [
    "current_market_values_df = current_market_values_df[(current_market_values_df['market_value'] < 0) | (current_market_values_df['market_value'] >= 0)]\n",
    "\n"
   ]
  },
  {
   "cell_type": "code",
   "execution_count": 24,
   "id": "0bcc7eec",
   "metadata": {},
   "outputs": [
    {
     "name": "stdout",
     "output_type": "stream",
     "text": [
      "                                  nft_address  token_id  market_value\n",
      "0  0x00000000000b7F8E8E8Ad148f9d53303Bfe20796       0.0  3.000000e+16\n",
      "1  0x00000000000b7F8E8E8Ad148f9d53303Bfe20796       1.0  1.500000e+17\n",
      "2  0x00000000000b7F8E8E8Ad148f9d53303Bfe20796      10.0  1.500000e+17\n",
      "3  0x00000000000b7F8E8E8Ad148f9d53303Bfe20796      11.0  3.000000e+16\n",
      "4  0x00000000000b7F8E8E8Ad148f9d53303Bfe20796      12.0  9.000000e+16\n"
     ]
    }
   ],
   "source": [
    "print(current_market_values_df.head())\n"
   ]
  },
  {
   "cell_type": "markdown",
   "id": "3a72314c",
   "metadata": {},
   "source": [
    "# Descriptive statistics "
   ]
  },
  {
   "cell_type": "code",
   "execution_count": 13,
   "id": "b6702623",
   "metadata": {},
   "outputs": [
    {
     "name": "stdout",
     "output_type": "stream",
     "text": [
      "Mean: 7.945405098644558e+17\n",
      "Median: 5e+16\n",
      "Minimum: 0.0\n",
      "Maximum: 1.89e+22\n",
      "Standard Deviation: 3.0743029882970632e+19\n"
     ]
    }
   ],
   "source": [
    "# Compute basic statistics on market values\n",
    "mean_value = current_market_values_df['market_value'].mean()\n",
    "median_value = current_market_values_df['market_value'].median()\n",
    "min_value = current_market_values_df['market_value'].min()\n",
    "max_value = current_market_values_df['market_value'].max()\n",
    "std_value = current_market_values_df['market_value'].std()\n",
    "\n",
    "# Print the computed statistics\n",
    "print(\"Mean:\", mean_value)\n",
    "print(\"Median:\", median_value)\n",
    "print(\"Minimum:\", min_value)\n",
    "print(\"Maximum:\", max_value)\n",
    "print(\"Standard Deviation:\", std_value)"
   ]
  },
  {
   "cell_type": "markdown",
   "id": "a175da64",
   "metadata": {},
   "source": [
    "Mean:\n",
    "The mean represents the average market value of the tokens in the dataset.\n",
    "In this case, the mean value is approximately 7.95 x 10^17 (794.54 quadrillion).\n",
    "It provides a measure of central tendency and indicates the typical value of the market values.\n",
    "\n",
    "Median:\n",
    "The median is the middle value in the sorted list of market values.\n",
    "In this case, the median value is 5 x 10^16 (50 trillion).\n",
    "It is less affected by extreme values and gives a sense of the \"typical\" or \"middle\" market value.\n",
    "\n",
    "Minimum:\n",
    "The minimum value represents the smallest market value in the dataset.\n",
    "In this case, the minimum value is 0.0.\n",
    "It indicates that there are tokens with a market value of zero in the dataset.\n",
    "\n",
    "Maximum:\n",
    "The maximum value represents the largest market value in the dataset.\n",
    "In this case, the maximum value is 1.89 x 10^22 (18.9 sextillion).\n",
    "It indicates the highest market value observed in the dataset.\n",
    "\n",
    "Standard Deviation:\n",
    "The standard deviation measures the dispersion or spread of the market values.\n",
    "In this case, the standard deviation is approximately 3.07 x 10^19 (30.74 quintillion).\n",
    "A larger standard deviation suggests a wider range of market values and greater variability."
   ]
  },
  {
   "cell_type": "code",
   "execution_count": 14,
   "id": "cea4aa41",
   "metadata": {
    "scrolled": true
   },
   "outputs": [
    {
     "data": {
      "image/png": "[encoded data removed]",
      "text/plain": [
       "<Figure size 640x480 with 1 Axes>"
      ]
     },
     "metadata": {},
     "output_type": "display_data"
    }
   ],
   "source": [
    "import matplotlib.pyplot as plt\n",
    "\n",
    "# Plot a histogram of market values\n",
    "plt.hist(current_market_values_df['market_value'], bins=10)\n",
    "plt.xlabel('Market Value')\n",
    "plt.ylabel('Frequency')\n",
    "plt.title('Histogram of Market Values')\n",
    "plt.show()"
   ]
  },
  {
   "cell_type": "markdown",
   "id": "7a254860",
   "metadata": {},
   "source": [
    "There are 7 tokens in the dataset with market values in the range of 0.00 to 0.25. The histogram provides a visual representation of the distribution of market values, specifically showing the concentration of tokens within this specific range.\n",
    "\n",
    "It's important to note that since this histogram only represents one bar, it suggests that there might be a significant concentration of tokens within this particular range, while other ranges may have fewer or no tokens. To get a more comprehensive understanding of the distribution, I'll examine additional statistical measures."
   ]
  },
  {
   "cell_type": "code",
   "execution_count": 16,
   "id": "7598d9c5",
   "metadata": {},
   "outputs": [
    {
     "name": "stdout",
     "output_type": "stream",
     "text": [
      "Skewness: 218.39367603671693\n"
     ]
    }
   ],
   "source": [
    "from scipy.stats import skew\n",
    "\n",
    "skewness = skew(current_market_values_df['market_value'])\n",
    "print(\"Skewness:\", skewness)\n"
   ]
  },
  {
   "cell_type": "markdown",
   "id": "f2349a76",
   "metadata": {},
   "source": [
    "Skewness measures the asymmetry of a distribution.A skewness value of 218.39 indicates a highly skewed distribution of the \"market_value\" variable. \n",
    "\n",
    "In this case, a positive skewness value indicates that the distribution is right-skewed or positively skewed. This means that the tail of the distribution extends towards higher values, while the majority of the data points are concentrated towards lower values.\n",
    "\n",
    "The large magnitude of the skewness value suggests that there is a significant imbalance in the distribution. The right-skewness indicates that there are potentially some extremely high market values that are pulling the distribution towards the right."
   ]
  },
  {
   "cell_type": "code",
   "execution_count": 17,
   "id": "28e4bdbe",
   "metadata": {},
   "outputs": [
    {
     "name": "stdout",
     "output_type": "stream",
     "text": [
      "Kurtosis: 71532.38504865389\n"
     ]
    }
   ],
   "source": [
    "from scipy.stats import kurtosis\n",
    "\n",
    "kurt = kurtosis(current_market_values_df['market_value'])\n",
    "print(\"Kurtosis:\", kurt)\n"
   ]
  },
  {
   "cell_type": "markdown",
   "id": "12e6a730",
   "metadata": {},
   "source": [
    "Kurtosis measures the heaviness of the tails of a distribution compared to a normal distribution. A kurtosis value of 71532.39 indicates a very high degree of kurtosis in the distribution of the \"market_value\" variable. \n",
    "\n",
    "In this case, such a high kurtosis value suggests that the tails of the distribution are extremely heavy and have a significant number of outliers or extreme values. This means that there are a few data points in the dataset that are much farther from the mean compared to what would be expected in a normal distribution.\n",
    "\n",
    "The high kurtosis value indicates that the distribution has very heavy tails and is leptokurtic. This implies that there is a high concentration of data points in the center of the distribution, with very few data points in the tails."
   ]
  },
  {
   "cell_type": "code",
   "execution_count": 18,
   "id": "8b7b9499",
   "metadata": {},
   "outputs": [
    {
     "name": "stdout",
     "output_type": "stream",
     "text": [
      "Outliers:\n",
      "                                        nft_address  token_id  market_value\n",
      "68       0x000000000437b3CCE2530936156388Bff5578FC3      18.0  1.000000e+18\n",
      "1345     0x000E49C87d2874431567d38FF9548890aB39BAac    1032.0  8.000000e+17\n",
      "1346     0x000E49C87d2874431567d38FF9548890aB39BAac    1033.0  8.000000e+17\n",
      "1347     0x000E49C87d2874431567d38FF9548890aB39BAac    1034.0  8.000000e+17\n",
      "1348     0x000E49C87d2874431567d38FF9548890aB39BAac    1035.0  8.000000e+17\n",
      "...                                             ...       ...           ...\n",
      "7020919  0xff9315c2c4c0208Edb5152F4c4eBec75e74010c5      10.0  8.000000e+17\n",
      "7020921  0xff9315c2c4c0208Edb5152F4c4eBec75e74010c5     173.0  7.500000e+17\n",
      "7020927  0xff9315c2c4c0208Edb5152F4c4eBec75e74010c5     243.0  9.900000e+17\n",
      "7020936  0xff9315c2c4c0208Edb5152F4c4eBec75e74010c5       4.0  8.000000e+17\n",
      "7020941  0xff9315c2c4c0208Edb5152F4c4eBec75e74010c5      61.0  9.900000e+17\n",
      "\n",
      "[888467 rows x 3 columns]\n"
     ]
    }
   ],
   "source": [
    "Q1 = current_market_values_df['market_value'].quantile(0.25)\n",
    "Q3 = current_market_values_df['market_value'].quantile(0.75)\n",
    "IQR = Q3 - Q1\n",
    "\n",
    "lower_bound = Q1 - 1.5 * IQR\n",
    "upper_bound = Q3 + 1.5 * IQR\n",
    "\n",
    "outliers = current_market_values_df[(current_market_values_df['market_value'] < lower_bound) | (current_market_values_df['market_value'] > upper_bound)]\n",
    "print(\"Outliers:\")\n",
    "print(outliers)\n"
   ]
  },
  {
   "cell_type": "markdown",
   "id": "60544119",
   "metadata": {},
   "source": [
    "Extreme valuations: The outliers represents NFTs with exceptionally high market values. These tokens may have unique characteristics, rarity, or high demand that drive their market prices to be significantly higher than the rest of the tokens in the dataset.\n",
    "\n",
    "Data errors: It's also possible that some outliers are the result of data errors, such as incorrect market value entries or outliers caused by measurement or recording errors. I would have to examine these values to determine if they are valid or if they should be treated as data anomalies.\n",
    "\n",
    "Market dynamics: The outliers could be an indication of significant market fluctuations or speculative trading activity. These extreme values might be a reflection of rapid price changes or speculative buying and selling patterns in the NFT market."
   ]
  },
  {
   "cell_type": "code",
   "execution_count": 19,
   "id": "3e8982d0",
   "metadata": {},
   "outputs": [
    {
     "name": "stdout",
     "output_type": "stream",
     "text": [
      "Lower Quartile (25th percentile): 0.0\n",
      "Median (50th percentile): 5e+16\n",
      "Upper Quartile (75th percentile): 2.7e+17\n"
     ]
    }
   ],
   "source": [
    "quartiles = current_market_values_df['market_value'].quantile([0.25, 0.5, 0.75])\n",
    "print(\"Lower Quartile (25th percentile):\", quartiles[0.25])\n",
    "print(\"Median (50th percentile):\", quartiles[0.5])\n",
    "print(\"Upper Quartile (75th percentile):\", quartiles[0.75])\n"
   ]
  },
  {
   "cell_type": "markdown",
   "id": "6c2dd2d0",
   "metadata": {},
   "source": [
    "The quartiles are statistical measures that divide a dataset into four equal parts, each representing 25% of the data. In this case, we have the following quartile values for the \"market_value\" column:\n",
    "\n",
    "Lower Quartile (25th percentile): 0.0\n",
    "The lower quartile represents the value below which 25% of the data falls. In this dataset, 25% of the market values are equal to or below 0.0. This suggests that a significant portion of the tokens have relatively low or zero market values.\n",
    "\n",
    "Median (50th percentile): 5e+16\n",
    "The median represents the middle value of the dataset when it is sorted in ascending order. In this case, the median market value is 5e+16, which indicates that 50% of the tokens have a market value equal to or below this value. It provides a measure of the central tendency of the market values.\n",
    "\n",
    "Upper Quartile (75th percentile): 2.7e+17\n",
    "The upper quartile represents the value below which 75% of the data falls. In this dataset, 75% of the market values are equal to or below 2.7e+17. This indicates that a significant portion of the tokens have market values less than or equal to this value, while a smaller portion of the tokens have higher market values.\n",
    "\n",
    "Overall, these quartile values provide insights into the distribution of market values in the dataset. The presence of a relatively large number of tokens with low or zero market values (indicated by the lower quartile) suggests the possibility of many tokens having little to no market demand or being less valuable. The median value represents the middle point of the distribution, and the upper quartile indicates the threshold above which a smaller proportion of tokens have higher market values."
   ]
  },
  {
   "cell_type": "code",
   "execution_count": 20,
   "id": "a5b793e8",
   "metadata": {},
   "outputs": [
    {
     "name": "stdout",
     "output_type": "stream",
     "text": [
      "Confidence Interval (95%): (7.718001730437073e+17, 8.172808466852044e+17)\n"
     ]
    }
   ],
   "source": [
    "from scipy import stats\n",
    "\n",
    "confidence_interval = stats.t.interval(0.95, len(current_market_values_df['market_value'])-1, loc=np.mean(current_market_values_df['market_value']), scale=stats.sem(current_market_values_df['market_value']))\n",
    "print(\"Confidence Interval (95%):\", confidence_interval)\n"
   ]
  },
  {
   "cell_type": "markdown",
   "id": "75151235",
   "metadata": {},
   "source": [
    "The confidence interval (95%) for the market values in the dataset is (7.718001730437073e+17, 8.172808466852044e+17). This interval provides a range of values within which we can be 95% confident that the true population mean of the market values lies.\n",
    "\n",
    "Interpreting the confidence interval:\n",
    "\n",
    "Lower bound: 7.718001730437073e+17\n",
    "This is the lower limit of the confidence interval. We can be 95% confident that the true population mean of the market values is greater than or equal to this value.\n",
    "\n",
    "Upper bound: 8.172808466852044e+17\n",
    "This is the upper limit of the confidence interval. We can be 95% confident that the true population mean of the market values is less than or equal to this value.\n",
    "\n",
    "In other words, we are 95% confident that the true average market value falls within the range of (7.718001730437073e+17, 8.172808466852044e+17). This interval provides an estimate of the precision and uncertainty associated with the mean market value."
   ]
  },
  {
   "cell_type": "markdown",
   "id": "a4fc8ac1",
   "metadata": {},
   "source": [
    "# Conclusion"
   ]
  },
  {
   "cell_type": "markdown",
   "id": "cb1d8f29",
   "metadata": {},
   "source": [
    "Based on the descriptive statistics calculated for the market values in the dataset, we can draw the following conclusions:\n",
    "\n",
    "Distribution: The market values of the tokens in the dataset exhibit a highly skewed distribution, as indicated by the significantly positive skewness value of 218.39. This suggests that there is a long tail of extremely high market values, indicating potential outliers or a few tokens with exceptionally high values.\n",
    "\n",
    "Central Tendencies: The mean market value is 7.95e+17 (795 trillion) units, indicating a relatively high average value. However, it is important to note that the median market value is much lower at 5e+16 (50 trillion) units, indicating the presence of significant outliers or a right-skewed distribution. The median provides a more representative measure of the central tendency in this case.\n",
    "\n",
    "Spread: The market values exhibit a wide range, as evident from the minimum value of 0.0 units and the maximum value of 1.89e+22 (18.9 quintillion) units. This large range indicates significant variation in the market values of the tokens.\n",
    "\n",
    "Variability: The standard deviation of the market values is 3.07e+19 (30.7 quintillion) units, indicating a high degree of variability in the dataset. This implies that the market values are widely spread out from the mean, further highlighting the presence of outliers or extreme values.\n",
    "\n",
    "Outliers: The presence of outliers is confirmed by the observation of several tokens with exceptionally high market values, as shown in the outlier values you provided. These outliers can significantly impact the overall distribution and statistical measures of the dataset.\n",
    "\n",
    "In conclusion, the market values of the tokens in the dataset exhibit a highly skewed distribution with a few tokens having extremely high values. The presence of outliers contributes to the wide range, high variability, and skewed nature of the market values."
   ]
  },
  {
   "cell_type": "code",
   "execution_count": null,
   "id": "e2105d16",
   "metadata": {},
   "outputs": [],
   "source": []
  }
 ],
 "metadata": {
  "kernelspec": {
   "display_name": "Python 3 (ipykernel)",
   "language": "python",
   "name": "python3"
  },
  "language_info": {
   "codemirror_mode": {
    "name": "ipython",
    "version": 3
   },
   "file_extension": ".py",
   "mimetype": "text/x-python",
   "name": "python",
   "nbconvert_exporter": "python",
   "pygments_lexer": "ipython3",
   "version": "3.10.9"
  }
 },
 "nbformat": 4,
 "nbformat_minor": 5
}
