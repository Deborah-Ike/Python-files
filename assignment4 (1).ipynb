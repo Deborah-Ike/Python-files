{
 "cells": [
  {
   "cell_type": "code",
   "execution_count": 23,
   "metadata": {
    "deletable": false,
    "editable": false
   },
   "outputs": [],
   "source": [
    "# Initialize Otter\n",
    "import otter\n",
    "grader = otter.Notebook(\"assignment4.ipynb\")"
   ]
  },
  {
   "cell_type": "markdown",
   "metadata": {},
   "source": [
    "# Otter-Grader Tutorial\n",
    "\n",
    "This notebook is part of the Otter-Grader tutorial. For more information about Otter, see our [documentation](https://otter-grader.rtfd.io)."
   ]
  },
  {
   "cell_type": "code",
   "execution_count": 24,
   "metadata": {},
   "outputs": [],
   "source": [
    "import pandas as pd\n",
    "import numpy as np\n",
    "from scipy import stats\n",
    "from scipy.stats import ks_2samp, poisson\n",
    "\n",
    "%matplotlib inline\n",
    "import otter\n",
    "grader = otter.Notebook()"
   ]
  },
  {
   "cell_type": "markdown",
   "metadata": {},
   "source": [
    "**Question 1:** Write a class `generic_descrete_png` that simulates random integers from any discrete distribution function. The class should accept inputs for the PMF, the size of the simulation array and any additional method arguments can be parsed in from the method itself:\n",
    "\n",
    "For example, i should be able to call your class object and use the simulate method as:\n",
    "\n",
    "```generic_descrete_png(binomial_pmf,1000).simulate(n = 10, p = 0.5)```\n",
    "\n",
    "*Do not change or remove anything from the class below, only add !*"
   ]
  },
  {
   "cell_type": "code",
   "execution_count": 29,
   "metadata": {
    "tags": []
   },
   "outputs": [],
   "source": [
    "########. Distributions ########\n",
    "import math\n",
    "\n",
    "def binomial_pmf(n, p, x):\n",
    "    return math.comb(n, x) * p**x * (1-p)**(n-x)\n",
    "\n",
    "def bernoulli_pmf():\n",
    "    return bernoulli.pmf()\n",
    "\n",
    "def poison_pmf(x, **kwargs):\n",
    "    return poisson.pmf(x,**kwargs )\n",
    "\n",
    "np.random.seed(seed=2212)\n",
    "class generic_descrete_png():\n",
    "    def __init__(self, pmf, size):\n",
    "        self.pmf = pmf\n",
    "        self.size = size\n",
    "    \n",
    "    def discrete_cdf(self, x, **kwargs):\n",
    "        \"\"\"\n",
    "        This is a generic discrete CDF which \n",
    "        takes the cumulat\n",
    "        ive sum of a pmf\n",
    "        \"\"\"\n",
    "        cdf  = 0\n",
    "        for k in range(x):\n",
    "            cdf += self.pmf(x=k, **kwargs)\n",
    "        return cdf\n",
    "\n",
    "    def get_probabilities(self, tol=10**(-5), **kwargs):\n",
    "        \"\"\"\n",
    "        This function creates the probabilities needed from which to extract integers\n",
    "        \"\"\"\n",
    "        pvec = []\n",
    "        k=1\n",
    "        cdf=0\n",
    "        while (1-cdf) > tol and not math.isnan(cdf):\n",
    "            cdf += self.discrete_cdf(x=k, **kwargs)\n",
    "            pvec.append(cdf)\n",
    "            k += 1 \n",
    "        return pvec[:-1]\n",
    "    \n",
    "    def discrete_inv_transform_sample(self, p_vec):\n",
    "        \"\"\"\n",
    "        This function searches over a uniform interval\n",
    "        for a subsequent integer\n",
    "        \"\"\"\n",
    "        p_vec = np.sort(p_vec)\n",
    "        Uni = np.random.uniform(size=1)\n",
    "        if Uni <= p_vec[0]:\n",
    "            return 0\n",
    "        for k in range(1, len(p_vec)):\n",
    "            if Uni > p_vec[k-1] and Uni <= p_vec[k]:\n",
    "                return k\n",
    "        \n",
    "    def simulate(self, **kwargs):\n",
    "        \"\"\"\n",
    "        This function samples from any pmf parsed with\n",
    "        key, values pairs (**kwargs)\n",
    "        \"\"\"\n",
    "        samples = []\n",
    "        p_vec = self.get_probabilities(tol=10**(-5), **kwargs)\n",
    "        for i in range(self.size):\n",
    "            realisation = self.discrete_inv_transform_sample(p_vec)\n",
    "            while realisation is None:\n",
    "                realisation = self.discrete_inv_transform_sample(p_vec)\n",
    "            samples.append(realisation)\n",
    "        return samples\n",
    "        "
   ]
  },
  {
   "cell_type": "code",
   "execution_count": 30,
   "metadata": {
    "deletable": false,
    "editable": false
   },
   "outputs": [
    {
     "data": {
      "text/html": [
       "<p><strong><pre style='display: inline;'>q1</pre></strong> passed!</p>"
      ],
      "text/plain": [
       "q1 results: All test cases passed!"
      ]
     },
     "execution_count": 30,
     "metadata": {},
     "output_type": "execute_result"
    }
   ],
   "source": [
    "grader.check(\"q1\")"
   ]
  },
  {
   "cell_type": "markdown",
   "metadata": {},
   "source": [
    "**Question 2:** Given the following target distribution\n",
    "$$f(x|\\alpha, \\beta) = \\frac{x^{\\alpha - 1} (1-x)^{\\beta - 1}}{B(\\alpha, \\beta)}$$\n",
    "\n",
    "$$\\text{where} \\ \\ \\ \\ B(\\alpha, \\beta) = \\frac{\\Gamma(\\alpha)\\Gamma(\\beta)}{\\Gamma(\\alpha + \\beta)},\\ \\text{and}\\ \\Gamma\\ \\text{is a}$$ [gamma function](https://en.wikipedia.org/wiki/Gamma_function)\n",
    "\n",
    "i. Write a function to simulate $n$ values that follow a beta ($\\alpha = 2.7, \\beta = 6.3$) distribution using the accept-reject algorithm. Use a beta ($\\alpha = 2, \\beta = 6$) as your proposal distribution and $c=1.67$ as your $c$. Please note you're allowed to use ```scipy.stats.beta.rvs``` to simulate from your proposal.\n",
    "\n",
    "_Once again please don't change existing code, just add on to it_"
   ]
  },
  {
   "cell_type": "code",
   "execution_count": 11,
   "metadata": {
    "tags": []
   },
   "outputs": [
    {
     "data": {
      "image/png": "[encoded data removed]",
      "text/plain": [
       "<Figure size 432x288 with 1 Axes>"
      ]
     },
     "metadata": {},
     "output_type": "display_data"
    }
   ],
   "source": [
    "import numpy as np\n",
    "import pandas as pd\n",
    "import matplotlib.pyplot as plt\n",
    "from scipy.special import gamma\n",
    "import seaborn as sns\n",
    "sns.set()\n",
    "np.random.seed(523)\n",
    "\n",
    "def f_target(x):\n",
    "    a = 2.7\n",
    "    b = 6.3\n",
    "    beta = gamma(a) * gamma(b) /gamma(a + b)\n",
    "    p = x ** (a - 1) * (1-x) ** (b - 1)\n",
    "    return 1/beta * p\n",
    "\n",
    "c = 1.67\n",
    "\n",
    "def beta_simulate(n):\n",
    "    i = 0\n",
    "    outputs = np.zeros(n)\n",
    "    while i < n:\n",
    "        U = np.random.uniform(size=1)\n",
    "        V = np.random.uniform(size=1)\n",
    "        if U < f_target(V)/c:\n",
    "            outputs[i] = V\n",
    "            i += 1\n",
    "    return outputs\n",
    "\n",
    "px = np.arange(0,1+0.01,0.01)\n",
    "py = f_target(px)\n",
    "\n",
    "Y = beta_simulate(n = 1000)\n",
    "fig,ax = plt.subplots()\n",
    "temp = ax.hist(Y,density=True)\n",
    "ax.plot(px,py)\n",
    "plt.title(\"Beta Dist\")\n",
    "plt.show()\n",
    "\n",
    "\n"
   ]
  },
  {
   "cell_type": "code",
   "execution_count": 12,
   "metadata": {
    "deletable": false,
    "editable": false
   },
   "outputs": [
    {
     "data": {
      "text/html": [
       "<p><strong><pre style='display: inline;'>q2</pre></strong> passed!</p>"
      ],
      "text/plain": [
       "q2 results: All test cases passed!"
      ]
     },
     "execution_count": 12,
     "metadata": {},
     "output_type": "execute_result"
    }
   ],
   "source": [
    "grader.check(\"q2\")"
   ]
  },
  {
   "cell_type": "markdown",
   "metadata": {},
   "source": [
    "**Question 3:** Using the sales data, write code to group the data by Manager and Region. Then compute the average Units, maximum unit price and minimum sale amount per manager per region. Ensure you reset your index so that your result looks similar to the data below.\n",
    "\n",
    "| Manager   | Region   |   Units |   Unit_price |   Sale_amt |\n",
    "|:----------|:---------|--------:|-------------:|-----------:|\n",
    "| Douglas   | Central  | 52      |         1198 |        250 |\n",
    "| Douglas   | East     | 56.6667 |          500 |       3375 |\n",
    "...\n",
    "| Timothy   | West     | 35.5    |         1198 |        375 |"
   ]
  },
  {
   "cell_type": "code",
   "execution_count": 13,
   "metadata": {
    "tags": []
   },
   "outputs": [
    {
     "data": {
      "text/html": [
       "<div>\n",
       "<style scoped>\n",
       "    .dataframe tbody tr th:only-of-type {\n",
       "        vertical-align: middle;\n",
       "    }\n",
       "\n",
       "    .dataframe tbody tr th {\n",
       "        vertical-align: top;\n",
       "    }\n",
       "\n",
       "    .dataframe thead th {\n",
       "        text-align: right;\n",
       "    }\n",
       "</style>\n",
       "<table border=\"1\" class=\"dataframe\">\n",
       "  <thead>\n",
       "    <tr style=\"text-align: right;\">\n",
       "      <th></th>\n",
       "      <th>Manager</th>\n",
       "      <th>Region</th>\n",
       "      <th>Units</th>\n",
       "      <th>Unit_price</th>\n",
       "      <th>Sale_amt</th>\n",
       "    </tr>\n",
       "  </thead>\n",
       "  <tbody>\n",
       "    <tr>\n",
       "      <td>0</td>\n",
       "      <td>Douglas</td>\n",
       "      <td>Central</td>\n",
       "      <td>52.000000</td>\n",
       "      <td>1198.0</td>\n",
       "      <td>250.0</td>\n",
       "    </tr>\n",
       "    <tr>\n",
       "      <td>1</td>\n",
       "      <td>Douglas</td>\n",
       "      <td>East</td>\n",
       "      <td>56.666667</td>\n",
       "      <td>500.0</td>\n",
       "      <td>3375.0</td>\n",
       "    </tr>\n",
       "    <tr>\n",
       "      <td>2</td>\n",
       "      <td>Douglas</td>\n",
       "      <td>West</td>\n",
       "      <td>44.500000</td>\n",
       "      <td>1198.0</td>\n",
       "      <td>28500.0</td>\n",
       "    </tr>\n",
       "    <tr>\n",
       "      <td>3</td>\n",
       "      <td>Hermann</td>\n",
       "      <td>Central</td>\n",
       "      <td>53.916667</td>\n",
       "      <td>1198.0</td>\n",
       "      <td>625.0</td>\n",
       "    </tr>\n",
       "    <tr>\n",
       "      <td>4</td>\n",
       "      <td>Marth</td>\n",
       "      <td>Central</td>\n",
       "      <td>28.000000</td>\n",
       "      <td>500.0</td>\n",
       "      <td>14000.0</td>\n",
       "    </tr>\n",
       "    <tr>\n",
       "      <td>5</td>\n",
       "      <td>Martha</td>\n",
       "      <td>Central</td>\n",
       "      <td>51.666667</td>\n",
       "      <td>1198.0</td>\n",
       "      <td>16772.0</td>\n",
       "    </tr>\n",
       "    <tr>\n",
       "      <td>6</td>\n",
       "      <td>Martha</td>\n",
       "      <td>East</td>\n",
       "      <td>52.100000</td>\n",
       "      <td>1198.0</td>\n",
       "      <td>936.0</td>\n",
       "    </tr>\n",
       "    <tr>\n",
       "      <td>7</td>\n",
       "      <td>Timothy</td>\n",
       "      <td>Central</td>\n",
       "      <td>42.600000</td>\n",
       "      <td>1198.0</td>\n",
       "      <td>6075.0</td>\n",
       "    </tr>\n",
       "    <tr>\n",
       "      <td>8</td>\n",
       "      <td>Timothy</td>\n",
       "      <td>West</td>\n",
       "      <td>35.500000</td>\n",
       "      <td>1198.0</td>\n",
       "      <td>375.0</td>\n",
       "    </tr>\n",
       "  </tbody>\n",
       "</table>\n",
       "</div>"
      ],
      "text/plain": [
       "   Manager   Region      Units  Unit_price  Sale_amt\n",
       "0  Douglas  Central  52.000000      1198.0     250.0\n",
       "1  Douglas     East  56.666667       500.0    3375.0\n",
       "2  Douglas     West  44.500000      1198.0   28500.0\n",
       "3  Hermann  Central  53.916667      1198.0     625.0\n",
       "4    Marth  Central  28.000000       500.0   14000.0\n",
       "5   Martha  Central  51.666667      1198.0   16772.0\n",
       "6   Martha     East  52.100000      1198.0     936.0\n",
       "7  Timothy  Central  42.600000      1198.0    6075.0\n",
       "8  Timothy     West  35.500000      1198.0     375.0"
      ]
     },
     "execution_count": 13,
     "metadata": {},
     "output_type": "execute_result"
    }
   ],
   "source": [
    "df = pd.read_csv('data/sales.csv', delimiter=\";\")\n",
    "\n",
    "q3 = df.groupby(['Manager','Region']).agg({'Units':np.mean,'Unit_price':max,'Sale_amt':min })\n",
    "q3_result = q3.reset_index()\n",
    "q3_result"
   ]
  },
  {
   "cell_type": "code",
   "execution_count": 14,
   "metadata": {
    "deletable": false,
    "editable": false
   },
   "outputs": [
    {
     "data": {
      "text/html": [
       "<p><strong><pre style='display: inline;'>q3</pre></strong> passed!</p>"
      ],
      "text/plain": [
       "q3 results: All test cases passed!"
      ]
     },
     "execution_count": 14,
     "metadata": {},
     "output_type": "execute_result"
    }
   ],
   "source": [
    "grader.check(\"q3\")"
   ]
  },
  {
   "cell_type": "markdown",
   "metadata": {},
   "source": [
    "**Question 4:** Write a Pandas program to create a Pivot table and find the total sale amount region wise, manager wise, sales man wise where Manager = \"Douglas\". "
   ]
  },
  {
   "cell_type": "code",
   "execution_count": 15,
   "metadata": {
    "tags": []
   },
   "outputs": [
    {
     "data": {
      "text/html": [
       "<div>\n",
       "<style scoped>\n",
       "    .dataframe tbody tr th:only-of-type {\n",
       "        vertical-align: middle;\n",
       "    }\n",
       "\n",
       "    .dataframe tbody tr th {\n",
       "        vertical-align: top;\n",
       "    }\n",
       "\n",
       "    .dataframe thead th {\n",
       "        text-align: right;\n",
       "    }\n",
       "</style>\n",
       "<table border=\"1\" class=\"dataframe\">\n",
       "  <thead>\n",
       "    <tr style=\"text-align: right;\">\n",
       "      <th></th>\n",
       "      <th></th>\n",
       "      <th></th>\n",
       "      <th>Sale_amt</th>\n",
       "    </tr>\n",
       "    <tr>\n",
       "      <th>Region</th>\n",
       "      <th>Manager</th>\n",
       "      <th>SalesMan</th>\n",
       "      <th></th>\n",
       "    </tr>\n",
       "  </thead>\n",
       "  <tbody>\n",
       "    <tr>\n",
       "      <td>Central</td>\n",
       "      <td>Douglas</td>\n",
       "      <td>John</td>\n",
       "      <td>41338.666667</td>\n",
       "    </tr>\n",
       "    <tr>\n",
       "      <td>East</td>\n",
       "      <td>Douglas</td>\n",
       "      <td>Karen</td>\n",
       "      <td>16068.000000</td>\n",
       "    </tr>\n",
       "    <tr>\n",
       "      <td>West</td>\n",
       "      <td>Douglas</td>\n",
       "      <td>Michael</td>\n",
       "      <td>33418.000000</td>\n",
       "    </tr>\n",
       "  </tbody>\n",
       "</table>\n",
       "</div>"
      ],
      "text/plain": [
       "                              Sale_amt\n",
       "Region  Manager SalesMan              \n",
       "Central Douglas John      41338.666667\n",
       "East    Douglas Karen     16068.000000\n",
       "West    Douglas Michael   33418.000000"
      ]
     },
     "execution_count": 15,
     "metadata": {},
     "output_type": "execute_result"
    }
   ],
   "source": [
    "df = pd.read_csv('data/sales.csv', delimiter=\";\")\n",
    "\n",
    "q4 = pd.pivot_table(df, index=['Region','Manager','SalesMan'], values='Sale_amt')\n",
    "q4_result = q4.query('Manager == [\"Douglas\"]')\n",
    "q4_result"
   ]
  },
  {
   "cell_type": "code",
   "execution_count": 16,
   "metadata": {
    "deletable": false,
    "editable": false
   },
   "outputs": [
    {
     "data": {
      "text/html": [
       "<p><strong><pre style='display: inline;'>q4</pre></strong> passed!</p>"
      ],
      "text/plain": [
       "q4 results: All test cases passed!"
      ]
     },
     "execution_count": 16,
     "metadata": {},
     "output_type": "execute_result"
    }
   ],
   "source": [
    "grader.check(\"q4\")"
   ]
  },
  {
   "cell_type": "markdown",
   "metadata": {},
   "source": [
    "**Question 5:** Write a Pandas program to Combine two DataFrame objects by filling null values in one DataFrame with non-null values from other DataFrame.\n",
    "\n",
    "_Test Data:_\n",
    "\n",
    "Original DataFrames:\n",
    "```\n",
    "     A  B\n",
    "0  NaN  3\n",
    "1  0.0  4\n",
    "2  NaN  5\n",
    "```\n",
    "\n",
    "```\n",
    "   A    B\n",
    "0  1  3.0\n",
    "1  1  NaN\n",
    "2  3  3.0\n",
    "```"
   ]
  },
  {
   "cell_type": "code",
   "execution_count": 17,
   "metadata": {
    "tags": []
   },
   "outputs": [
    {
     "data": {
      "text/html": [
       "<div>\n",
       "<style scoped>\n",
       "    .dataframe tbody tr th:only-of-type {\n",
       "        vertical-align: middle;\n",
       "    }\n",
       "\n",
       "    .dataframe tbody tr th {\n",
       "        vertical-align: top;\n",
       "    }\n",
       "\n",
       "    .dataframe thead th {\n",
       "        text-align: right;\n",
       "    }\n",
       "</style>\n",
       "<table border=\"1\" class=\"dataframe\">\n",
       "  <thead>\n",
       "    <tr style=\"text-align: right;\">\n",
       "      <th></th>\n",
       "      <th>A</th>\n",
       "      <th>B</th>\n",
       "    </tr>\n",
       "  </thead>\n",
       "  <tbody>\n",
       "    <tr>\n",
       "      <td>0</td>\n",
       "      <td>1.0</td>\n",
       "      <td>3</td>\n",
       "    </tr>\n",
       "    <tr>\n",
       "      <td>1</td>\n",
       "      <td>0.0</td>\n",
       "      <td>4</td>\n",
       "    </tr>\n",
       "    <tr>\n",
       "      <td>2</td>\n",
       "      <td>3.0</td>\n",
       "      <td>5</td>\n",
       "    </tr>\n",
       "  </tbody>\n",
       "</table>\n",
       "</div>"
      ],
      "text/plain": [
       "     A  B\n",
       "0  1.0  3\n",
       "1  0.0  4\n",
       "2  3.0  5"
      ]
     },
     "execution_count": 17,
     "metadata": {},
     "output_type": "execute_result"
    }
   ],
   "source": [
    "\n",
    "df1 = pd.DataFrame({'A': [None, 0, None], 'B': [3, 4, 5]})\n",
    "df2 = pd.DataFrame({'A': [1, 1, 3], 'B': [3, None, 3]})\n",
    "# combine the dataframes\n",
    "q5_result = df1.combine_first(df2)\n",
    "q5_result"
   ]
  },
  {
   "cell_type": "code",
   "execution_count": 18,
   "metadata": {
    "deletable": false,
    "editable": false
   },
   "outputs": [
    {
     "data": {
      "text/html": [
       "<p><strong><pre style='display: inline;'>q5</pre></strong> passed!</p>"
      ],
      "text/plain": [
       "q5 results: All test cases passed!"
      ]
     },
     "execution_count": 18,
     "metadata": {},
     "output_type": "execute_result"
    }
   ],
   "source": [
    "grader.check(\"q5\")"
   ]
  },
  {
   "cell_type": "markdown",
   "metadata": {
    "deletable": false,
    "editable": false
   },
   "source": [
    "## Submission\n",
    "\n",
    "Make sure you have run all cells in your notebook in order before running the cell below, so that all images/graphs appear in the output. The cell below will generate a zip file for you to submit. **Please save before exporting!**\n",
    "\n",
    "These are some submission instructions."
   ]
  },
  {
   "cell_type": "code",
   "execution_count": null,
   "metadata": {
    "deletable": false,
    "editable": false
   },
   "outputs": [],
   "source": [
    "# Save your notebook first, then run this cell to export your submission.\n",
    "grader.export(run_tests=True)"
   ]
  },
  {
   "cell_type": "markdown",
   "metadata": {},
   "source": [
    " "
   ]
  }
 ],
 "metadata": {
  "kernelspec": {
   "display_name": "Python 3",
   "language": "python",
   "name": "python3"
  },
  "language_info": {
   "codemirror_mode": {
    "name": "ipython",
    "version": 3
   },
   "file_extension": ".py",
   "mimetype": "text/x-python",
   "name": "python",
   "nbconvert_exporter": "python",
   "pygments_lexer": "ipython3",
   "version": "3.7.4"
  },
  "varInspector": {
   "cols": {
    "lenName": 16,
    "lenType": 16,
    "lenVar": 40
   },
   "kernels_config": {
    "python": {
     "delete_cmd_postfix": "",
     "delete_cmd_prefix": "del ",
     "library": "var_list.py",
     "varRefreshCmd": "print(var_dic_list())"
    },
    "r": {
     "delete_cmd_postfix": ") ",
     "delete_cmd_prefix": "rm(",
     "library": "var_list.r",
     "varRefreshCmd": "cat(var_dic_list()) "
    }
   },
   "types_to_exclude": [
    "module",
    "function",
    "builtin_function_or_method",
    "instance",
    "_Feature"
   ],
   "window_display": false
  }
 },
 "nbformat": 4,
 "nbformat_minor": 4
}
