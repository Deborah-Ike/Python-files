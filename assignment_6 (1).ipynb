{
 "cells": [
  {
   "cell_type": "code",
   "execution_count": 1,
   "metadata": {
    "deletable": false,
    "editable": false
   },
   "outputs": [],
   "source": [
    "# Initialize Otter\n",
    "import otter\n",
    "grader = otter.Notebook(\"assignment_6.ipynb\")"
   ]
  },
  {
   "cell_type": "markdown",
   "metadata": {},
   "source": [
    "# STK 353\n",
    "\n",
    "## Assignment 6: Machine Learning\n",
    "\n",
    "\n",
    "### Total points: 30\n",
    "\n",
    "- Submission deadline: 23:00, Wednesday 19 October 2022.\n",
    "- This assignment is individual work.\n",
    "- Some of the tests are hidden, and some are visible in order to guide you.\n",
    "- For this assignment use a seed of 33 throughout.\n"
   ]
  },
  {
   "cell_type": "markdown",
   "metadata": {},
   "source": [
    "## Load the required packages"
   ]
  },
  {
   "cell_type": "code",
   "execution_count": 2,
   "metadata": {},
   "outputs": [],
   "source": [
    "import re\n",
    "\n",
    "import numpy as np\n",
    "import pandas as pd\n",
    "import matplotlib.pyplot as plt\n",
    "%matplotlib inline\n",
    "\n",
    "from sklearn.preprocessing import LabelEncoder\n",
    "from sklearn.feature_extraction.text import TfidfVectorizer\n",
    "from sklearn.feature_extraction.text import CountVectorizer\n",
    "from sklearn.model_selection import train_test_split\n",
    "from sklearn import metrics\n",
    "from sklearn.linear_model import LogisticRegression\n",
    "from sklearn.naive_bayes import MultinomialNB\n",
    "from sklearn.decomposition import LatentDirichletAllocation\n",
    "from sklearn.cluster import KMeans"
   ]
  },
  {
   "cell_type": "markdown",
   "metadata": {},
   "source": [
    "### Question 1 - Prepare the data\n",
    "\n",
    "The data can be found in 'kindle_reviews.csv'. In this assignment, you are required to predict the number of positive and negative reviews using logistic regression and naive Bayes. Furthermore, you are required to determine the underlying topics using latent Dirichlet allocation."
   ]
  },
  {
   "cell_type": "markdown",
   "metadata": {
    "deletable": false,
    "editable": false
   },
   "source": [
    "#### Question 1.1 [2]\n",
    "\n",
    "- Use the code provided to read the data 'kindle_reviews' into a dataframe and call it 'data_original'.\n",
    "- **Important**: Make sure the dataset is saved in the **same** directory as your notebook.\n",
    "- Convert the rating column to a binary rating where you assign the value 'positive' to ratings greater than 3 and the value 'negative' to ratings less than or equal to 3. \n",
    "- Write the reviewText column to a list. Call this list 'Reviews'.\n",
    "\n",
    "\n",
    "**Note**: Pay attention to the variable names specified. It is important that you keep to the names specified.\n",
    "\n",
    "<!--\n",
    "BEGIN QUESTION\n",
    "name: q1.1\n",
    "points: \n",
    "    each: 0.5\n",
    "-->"
   ]
  },
  {
   "cell_type": "code",
   "execution_count": 3,
   "metadata": {},
   "outputs": [
    {
     "name": "stdout",
     "output_type": "stream",
     "text": [
      "   Unnamed: 0    rating                                         reviewText  \\\n",
      "0           0  Negative  When I read the description for this book, I c...   \n",
      "1           1  Positive  I just had to edit this review. This book is a...   \n",
      "2           2  Positive  I don't normally buy 'mystery' novels because ...   \n",
      "3           3  Positive  This isn't the kind of book I normally read, a...   \n",
      "4           4  Positive  I really enjoyed how this story developed.  It...   \n",
      "\n",
      "                                             summary  \n",
      "0                            Boring! Boring! Boring!  \n",
      "1                    Wiggleliscious/new toy ready/!!  \n",
      "2                                    Very good read.  \n",
      "3                                       Great Story!  \n",
      "4  When an Alien Scientist Gets Lost in the Orego...  \n"
     ]
    }
   ],
   "source": [
    "data_original = pd.read_csv('kindle_reviews.csv')\n",
    "conditions = [data_original.rating > 3,data_original.rating <= 3,]\n",
    "values = ['Positive', 'Negative']\n",
    "data_original['rating'] = np.select(conditions, values)\n",
    "Reviews = list(data_original.reviewText)\n",
    "print(data_original.head())"
   ]
  },
  {
   "cell_type": "code",
   "execution_count": 4,
   "metadata": {
    "deletable": false,
    "editable": false
   },
   "outputs": [
    {
     "data": {
      "text/html": [
       "<p><strong><pre style='display: inline;'>q1.1</pre></strong> passed!</p>"
      ],
      "text/plain": [
       "q1.1 results: All test cases passed!"
      ]
     },
     "execution_count": 4,
     "metadata": {},
     "output_type": "execute_result"
    }
   ],
   "source": [
    "grader.check(\"q1.1\")"
   ]
  },
  {
   "cell_type": "markdown",
   "metadata": {
    "deletable": false,
    "editable": false
   },
   "source": [
    "#### Question 1.2 [1]\n",
    "\n",
    "- Make a copy of the dataframe 'data_original' and name this 'data'. Use the code provided to make the copy of the dataframe.\n",
    "- Use sklearn.preprocessing LabelEncoder to encode the labels to binary values 0 or 1. Make a new column in the new dataframe, 'data', for this encoding and call it 'response'. Positive sentiment will be 1 and a negative sentiment will be 0.\n",
    "- Drop all extra columns such that your dataframe 'data' only contains the reviewText and response columns.\n",
    "\n",
    "<!--\n",
    "BEGIN QUESTION\n",
    "name: q1.2\n",
    "points: 1\n",
    "-->"
   ]
  },
  {
   "cell_type": "code",
   "execution_count": 5,
   "metadata": {},
   "outputs": [
    {
     "name": "stdout",
     "output_type": "stream",
     "text": [
      "                                          reviewText  response\n",
      "0  When I read the description for this book, I c...         0\n",
      "1  I just had to edit this review. This book is a...         1\n",
      "2  I don't normally buy 'mystery' novels because ...         1\n",
      "3  This isn't the kind of book I normally read, a...         1\n",
      "4  I really enjoyed how this story developed.  It...         1\n"
     ]
    }
   ],
   "source": [
    "data = data_original.copy()\n",
    "label_encoder = LabelEncoder()\n",
    "data['response']=label_encoder.fit_transform(data['rating'])\n",
    "data = data[['reviewText','response']]\n",
    "print(data.head())"
   ]
  },
  {
   "cell_type": "code",
   "execution_count": 6,
   "metadata": {
    "deletable": false,
    "editable": false
   },
   "outputs": [
    {
     "data": {
      "text/html": [
       "<p><strong><pre style='display: inline;'>q1.2</pre></strong> passed!</p>"
      ],
      "text/plain": [
       "q1.2 results: All test cases passed!"
      ]
     },
     "execution_count": 6,
     "metadata": {},
     "output_type": "execute_result"
    }
   ],
   "source": [
    "grader.check(\"q1.2\")"
   ]
  },
  {
   "cell_type": "markdown",
   "metadata": {},
   "source": [
    "## Book review sentiment classification"
   ]
  },
  {
   "cell_type": "markdown",
   "metadata": {},
   "source": [
    "### Question 2 -  Logistic Regression"
   ]
  },
  {
   "cell_type": "markdown",
   "metadata": {
    "deletable": false,
    "editable": false
   },
   "source": [
    "#### Question 2.1 [3]\n",
    "\n",
    "- Use the sklearn TfidfVectorizer. Use the following parameters:\n",
    "    - stop_words = 'english'.\n",
    "    - token_pattern = r'\\b[^\\d\\W]+\\b'. \n",
    "- Call the instantiation 'tfidf'.\n",
    "- Get the vectorization (call it bag_of_words) and the feature names (call it 'feature_names_reg').\n",
    "- Write the vectorization to a dataframe with the feature_names as column headings. Call the dataframe 'vectorized_text_reg'.\n",
    "\n",
    "<!--\n",
    "BEGIN QUESTION\n",
    "name: q2.1\n",
    "points: \n",
    "    each: 1\n",
    "-->"
   ]
  },
  {
   "cell_type": "code",
   "execution_count": 7,
   "metadata": {},
   "outputs": [],
   "source": [
    "tfidf = TfidfVectorizer(stop_words = 'english',token_pattern = r'\\b[^\\d\\W]+\\b')\n",
    "bag_of_words = tfidf.fit_transform(Reviews)\n",
    "feature_names_reg = tfidf.get_feature_names()\n",
    "vectorized_text_reg = pd.DataFrame(bag_of_words.todense(),columns=feature_names_reg)\n"
   ]
  },
  {
   "cell_type": "code",
   "execution_count": 8,
   "metadata": {
    "deletable": false,
    "editable": false
   },
   "outputs": [
    {
     "data": {
      "text/html": [
       "<p><strong><pre style='display: inline;'>q2.1</pre></strong> passed!</p>"
      ],
      "text/plain": [
       "q2.1 results: All test cases passed!"
      ]
     },
     "execution_count": 8,
     "metadata": {},
     "output_type": "execute_result"
    }
   ],
   "source": [
    "grader.check(\"q2.1\")"
   ]
  },
  {
   "cell_type": "markdown",
   "metadata": {
    "deletable": false,
    "editable": false
   },
   "source": [
    "#### Question 2.2 [1]\n",
    "\n",
    "Split the data into a training and test set.\n",
    "\n",
    "- Use a 80/20 split.\n",
    "- Use a seed of 33.\n",
    "- Name the training and test sets: X_train, Y_train, X_test, Y_test.\n",
    "\n",
    "<!--\n",
    "BEGIN QUESTION\n",
    "name: q2.2\n",
    "points: \n",
    "    each: 0.5\n",
    "-->"
   ]
  },
  {
   "cell_type": "code",
   "execution_count": 9,
   "metadata": {},
   "outputs": [],
   "source": [
    "train, test = train_test_split(vectorized_text_reg,test_size=0.2,random_state=33)\n",
    "\n",
    "X_train = train\n",
    "Y_train = data['response'][train.index]\n",
    "\n",
    "X_test = test\n",
    "Y_test = data['response'][test.index]\n"
   ]
  },
  {
   "cell_type": "code",
   "execution_count": 10,
   "metadata": {
    "deletable": false,
    "editable": false
   },
   "outputs": [
    {
     "data": {
      "text/html": [
       "<p><strong><pre style='display: inline;'>q2.2</pre></strong> passed!</p>"
      ],
      "text/plain": [
       "q2.2 results: All test cases passed!"
      ]
     },
     "execution_count": 10,
     "metadata": {},
     "output_type": "execute_result"
    }
   ],
   "source": [
    "grader.check(\"q2.2\")"
   ]
  },
  {
   "cell_type": "markdown",
   "metadata": {
    "deletable": false,
    "editable": false
   },
   "source": [
    "#### Question 2.3a [1]\n",
    "\n",
    "- Use the training set to check the class imbalance of the data set and call it 'class_ratio'.\n",
    "\n",
    "<!--\n",
    "BEGIN QUESTION\n",
    "name: q2.3a\n",
    "points: 1\n",
    "-->"
   ]
  },
  {
   "cell_type": "code",
   "execution_count": 11,
   "metadata": {},
   "outputs": [
    {
     "name": "stdout",
     "output_type": "stream",
     "text": [
      "0    51.46875\n",
      "1    48.53125\n",
      "Name: response, dtype: float64\n"
     ]
    }
   ],
   "source": [
    "class_ratio = Y_train.value_counts(normalize=True)*100\n",
    "\n",
    "print(class_ratio)"
   ]
  },
  {
   "cell_type": "code",
   "execution_count": 12,
   "metadata": {
    "deletable": false,
    "editable": false
   },
   "outputs": [
    {
     "data": {
      "text/html": [
       "<p><strong><pre style='display: inline;'>q2.3a</pre></strong> passed!</p>"
      ],
      "text/plain": [
       "q2.3a results: All test cases passed!"
      ]
     },
     "execution_count": 12,
     "metadata": {},
     "output_type": "execute_result"
    }
   ],
   "source": [
    "grader.check(\"q2.3a\")"
   ]
  },
  {
   "cell_type": "markdown",
   "metadata": {
    "deletable": false,
    "editable": false
   },
   "source": [
    "<!-- BEGIN QUESTION -->\n",
    "\n",
    "#### Question 2.3b [1]\n",
    "\n",
    "In the markdown cell below, comment on the class ratio.\n",
    "\n",
    "<!--\n",
    "BEGIN QUESTION\n",
    "name: q2.3b\n",
    "points: 1\n",
    "manual: true\n",
    "-->"
   ]
  },
  {
   "cell_type": "markdown",
   "metadata": {},
   "source": [
    "_The Class ratio shows that the class is balanced we have a 51:49 ratio.Thus accuracy is an appropriate evaluation metric._"
   ]
  },
  {
   "cell_type": "markdown",
   "metadata": {
    "deletable": false,
    "editable": false
   },
   "source": [
    "<!-- END QUESTION -->\n",
    "\n",
    "#### Question 2.4  [1]\n",
    "\n",
    "Create an instance of the logistic regression model. Specify solver = 'lbfgs'.\n",
    "\n",
    "- Fit the model to the training data and call it 'log_model'. \n",
    "- Calculate the accuracy on the training data and call it 'log_acc'.\n",
    "\n",
    "<!--\n",
    "BEGIN QUESTION\n",
    "name: q2.4\n",
    "points: 1\n",
    "-->"
   ]
  },
  {
   "cell_type": "code",
   "execution_count": 13,
   "metadata": {},
   "outputs": [
    {
     "name": "stdout",
     "output_type": "stream",
     "text": [
      "0.925\n"
     ]
    }
   ],
   "source": [
    "model = LogisticRegression(solver = 'lbfgs', random_state = 33)\n",
    "log_model = model.fit(X_train,Y_train)\n",
    "log_acc = log_model.score(X_train, Y_train)\n",
    "print(log_acc)"
   ]
  },
  {
   "cell_type": "code",
   "execution_count": 14,
   "metadata": {
    "deletable": false,
    "editable": false
   },
   "outputs": [
    {
     "data": {
      "text/html": [
       "<p><strong><pre style='display: inline;'>q2.4</pre></strong> passed!</p>"
      ],
      "text/plain": [
       "q2.4 results: All test cases passed!"
      ]
     },
     "execution_count": 14,
     "metadata": {},
     "output_type": "execute_result"
    }
   ],
   "source": [
    "grader.check(\"q2.4\")"
   ]
  },
  {
   "cell_type": "markdown",
   "metadata": {
    "deletable": false,
    "editable": false
   },
   "source": [
    "#### Question 2.5 [3]\n",
    "\n",
    "Predict class labels for the test set and calculate the class probabilities.\n",
    "\n",
    "- Call the predicted class labels 'pred'.\n",
    "- Call the predicted class probabilities 'probs'.\n",
    "\n",
    "Calculate the following,\n",
    "\n",
    "- Calculate the accuracy score on the test set and call it 'log_acc_score'.\n",
    "- Calculate the precision score on the test set and call it 'log_prec_score'.\n",
    "- Calculate the recall score on the test set and call it 'log_rec_score'.\n",
    "- Calculate the auc (area under the curve) score on the test set and call it 'log_auc_score'.\n",
    "\n",
    "**Note**: Round the 'log_acc_score', 'log_prec_score', 'log_rec_score', and 'log_auc_score' values to 4 decimal points.\n",
    "\n",
    "<!--\n",
    "BEGIN QUESTION\n",
    "name: q2.5\n",
    "points: \n",
    "    each: 1\n",
    "-->"
   ]
  },
  {
   "cell_type": "code",
   "execution_count": 15,
   "metadata": {},
   "outputs": [
    {
     "name": "stdout",
     "output_type": "stream",
     "text": [
      "0.8125 0.8305 0.8109 0.8857\n"
     ]
    }
   ],
   "source": [
    "pred = model.predict(X_test)\n",
    "probs = model.predict_proba(X_test)\n",
    "\n",
    "log_acc_score = round(metrics.accuracy_score(Y_test, pred), 4)\n",
    "log_prec_score =round( metrics.precision_score(Y_test,pred),4)\n",
    "log_rec_score = round(metrics.recall_score(Y_test,pred),4)\n",
    "log_auc_score = round(metrics.roc_auc_score(Y_test,model.predict_proba(X_test)[::,1]), 4)\n",
    "\n",
    "print(log_acc_score,log_prec_score, log_rec_score,log_auc_score)"
   ]
  },
  {
   "cell_type": "code",
   "execution_count": 16,
   "metadata": {
    "deletable": false,
    "editable": false
   },
   "outputs": [
    {
     "data": {
      "text/html": [
       "<p><strong><pre style='display: inline;'>q2.5</pre></strong> passed!</p>"
      ],
      "text/plain": [
       "q2.5 results: All test cases passed!"
      ]
     },
     "execution_count": 16,
     "metadata": {},
     "output_type": "execute_result"
    }
   ],
   "source": [
    "grader.check(\"q2.5\")"
   ]
  },
  {
   "cell_type": "markdown",
   "metadata": {
    "deletable": false,
    "editable": false
   },
   "source": [
    "<!-- BEGIN QUESTION -->\n",
    "\n",
    "#### Question 2.6 [3]\n",
    "\n",
    "Draw the ROC curve.\n",
    "\n",
    "- Provide a title, x and y label.\n",
    "\n",
    "<!--\n",
    "BEGIN QUESTION\n",
    "name: q2.7\n",
    "manual: true\n",
    "points: 3\n",
    "-->"
   ]
  },
  {
   "cell_type": "code",
   "execution_count": 17,
   "metadata": {},
   "outputs": [
    {
     "data": {
      "image/png": "[encoded data removed]",
      "text/plain": [
       "<Figure size 720x720 with 1 Axes>"
      ]
     },
     "metadata": {
      "needs_background": "light"
     },
     "output_type": "display_data"
    }
   ],
   "source": [
    "\n",
    "false_positive_rate, true_positive_rate, threshold = metrics.roc_curve(Y_test,model.predict_proba(X_test)[::,1])\n",
    "\n",
    "plt.subplots(1, figsize=(10,10))\n",
    "plt.title('Receiver Operating Characteristic - Logistic regression')\n",
    "plt.plot(false_positive_rate, true_positive_rate,color = 'darkorange',label = 'ROC curve (area = %0.4f)' % metrics.roc_auc_score(Y_test, probs[:, 1]))\n",
    "plt.plot([0, 1], ls=\"--\")\n",
    "plt.plot([0, 0], [1, 0] , c=\".7\"), plt.plot([1, 1] , c=\".7\")\n",
    "plt.ylabel('True Positive Rate')\n",
    "plt.xlabel('False Positive Rate')\n",
    "plt.legend(loc = \"lower right\")\n",
    "plt.show()"
   ]
  },
  {
   "cell_type": "markdown",
   "metadata": {},
   "source": [
    "<!-- END QUESTION -->\n",
    "\n",
    "\n",
    "\n",
    "### Question 3 -  Naive Bayes Classifier"
   ]
  },
  {
   "cell_type": "markdown",
   "metadata": {
    "deletable": false,
    "editable": false
   },
   "source": [
    "#### Question 3.1 [3]\n",
    "\n",
    "- Use the sklearn Countvectorizer. Use the following parameters:\n",
    "    - stop_words = 'english'.\n",
    "    - token_pattern = r'\\b[^\\d\\W]+\\b'. \n",
    "- Call the instantiation 'matrix'.\n",
    "- Get the vectorization (call it bag_of_words) and the feature names (call it 'feature_names_nb').\n",
    "- Write the vectorization to a dataframe with the feature_names as column headings. Call the dataframe 'vectorized_text_nb'.\n",
    "\n",
    "<!--\n",
    "BEGIN QUESTION\n",
    "name: q3.1\n",
    "points: \n",
    "    each: 1\n",
    "-->"
   ]
  },
  {
   "cell_type": "code",
   "execution_count": 18,
   "metadata": {},
   "outputs": [],
   "source": [
    "matrix= CountVectorizer(stop_words = 'english',token_pattern = r'\\b[^\\d\\W]+\\b')\n",
    "bag_of_words = matrix.fit_transform(Reviews)\n",
    "feature_names_nb = matrix.get_feature_names()\n",
    "vectorized_text_nb = pd.DataFrame(bag_of_words.todense(),columns=feature_names_nb)\n"
   ]
  },
  {
   "cell_type": "code",
   "execution_count": 19,
   "metadata": {
    "deletable": false,
    "editable": false
   },
   "outputs": [
    {
     "data": {
      "text/html": [
       "<p><strong><pre style='display: inline;'>q3.1</pre></strong> passed!</p>"
      ],
      "text/plain": [
       "q3.1 results: All test cases passed!"
      ]
     },
     "execution_count": 19,
     "metadata": {},
     "output_type": "execute_result"
    }
   ],
   "source": [
    "grader.check(\"q3.1\")"
   ]
  },
  {
   "cell_type": "markdown",
   "metadata": {
    "deletable": false,
    "editable": false
   },
   "source": [
    "#### Question 3.2 [1]\n",
    "\n",
    "Split the data into a training and test set.\n",
    "\n",
    "- Use a 80/20 split.\n",
    "- Use a seed of 33.\n",
    "- Name the training and test sets: X_train_nb, Y_train_nb, X_test_nb, Y_test_nb.\n",
    "\n",
    "<!--\n",
    "BEGIN QUESTION\n",
    "name: q3.2\n",
    "points: \n",
    "    each: 0.5\n",
    "-->"
   ]
  },
  {
   "cell_type": "code",
   "execution_count": 20,
   "metadata": {},
   "outputs": [],
   "source": [
    "train, test = train_test_split(vectorized_text_nb,test_size=0.2,random_state=33)\n",
    "\n",
    "X_train_nb = train\n",
    "Y_train_nb = data['response'][train.index]\n",
    "\n",
    "X_test_nb = test\n",
    "Y_test_nb = data['response'][test.index]"
   ]
  },
  {
   "cell_type": "code",
   "execution_count": 21,
   "metadata": {
    "deletable": false,
    "editable": false
   },
   "outputs": [
    {
     "data": {
      "text/html": [
       "<p><strong><pre style='display: inline;'>q3.2</pre></strong> passed!</p>"
      ],
      "text/plain": [
       "q3.2 results: All test cases passed!"
      ]
     },
     "execution_count": 21,
     "metadata": {},
     "output_type": "execute_result"
    }
   ],
   "source": [
    "grader.check(\"q3.2\")"
   ]
  },
  {
   "cell_type": "markdown",
   "metadata": {
    "deletable": false,
    "editable": false
   },
   "source": [
    "#### Question 3.3 [1]\n",
    "\n",
    "Create an instance of the Naive Bayes model.\n",
    "\n",
    "- Use MultinomialNB.\n",
    "- Fit the model to the training data and call it 'nb_model'. \n",
    "- Calculate the accuracy on the training data and call it 'nb_acc'.\n",
    "\n",
    "**Note**: Round the 'nb_acc' value to 4 decimal points.\n",
    "\n",
    "<!--\n",
    "BEGIN QUESTION\n",
    "name: q3.3\n",
    "points: 1\n",
    "-->"
   ]
  },
  {
   "cell_type": "code",
   "execution_count": 22,
   "metadata": {},
   "outputs": [],
   "source": [
    "nb = MultinomialNB()\n",
    "nb_model = nb.fit(X_train_nb,Y_train_nb)\n",
    "nb_acc = round(nb_model.score(X_train_nb,Y_train_nb),4)"
   ]
  },
  {
   "cell_type": "code",
   "execution_count": 23,
   "metadata": {
    "deletable": false,
    "editable": false
   },
   "outputs": [
    {
     "data": {
      "text/html": [
       "<p><strong><pre style='display: inline;'>q3.3</pre></strong> passed!</p>"
      ],
      "text/plain": [
       "q3.3 results: All test cases passed!"
      ]
     },
     "execution_count": 23,
     "metadata": {},
     "output_type": "execute_result"
    }
   ],
   "source": [
    "grader.check(\"q3.3\")"
   ]
  },
  {
   "cell_type": "markdown",
   "metadata": {
    "deletable": false,
    "editable": false
   },
   "source": [
    "#### Question 3.4 [3]\n",
    "\n",
    "Predict class labels for the test set and calculate the class probabilities.\n",
    "\n",
    "- Call the predicted class labels 'predicted'.\n",
    "\n",
    "Calculate the following,\n",
    "\n",
    "- Calculate the accuracy score on the test set and call it 'nb_acc_score'.\n",
    "- Calculate the precision score on the test set and call it 'nb_prec_score'.\n",
    "- Calculate the recall score on the test set and call it 'nb_rec_score'.\n",
    "\n",
    "**Note**: Round the 'nb_acc_score', 'nb_prec_score' and 'nb_rec_score' values to 4 decimal points.\n",
    "\n",
    "<!--\n",
    "BEGIN QUESTION\n",
    "name: q3.4\n",
    "points: \n",
    "    each: 1\n",
    "-->"
   ]
  },
  {
   "cell_type": "code",
   "execution_count": 24,
   "metadata": {},
   "outputs": [
    {
     "name": "stdout",
     "output_type": "stream",
     "text": [
      "0.8012 0.8568 0.7494\n"
     ]
    }
   ],
   "source": [
    "predicted = nb_model.predict(X_test_nb)\n",
    "\n",
    "nb_acc_score = round(metrics.accuracy_score(Y_test_nb,predicted),4)\n",
    "nb_prec_score =round( metrics.precision_score(Y_test_nb,predicted),4)\n",
    "nb_rec_score = round(metrics.recall_score(Y_test_nb,predicted),4)\n",
    "\n",
    "print(nb_acc_score,nb_prec_score,nb_rec_score )"
   ]
  },
  {
   "cell_type": "code",
   "execution_count": 25,
   "metadata": {
    "deletable": false,
    "editable": false
   },
   "outputs": [
    {
     "data": {
      "text/html": [
       "<p><strong><pre style='display: inline;'>q3.4</pre></strong> passed!</p>"
      ],
      "text/plain": [
       "q3.4 results: All test cases passed!"
      ]
     },
     "execution_count": 25,
     "metadata": {},
     "output_type": "execute_result"
    }
   ],
   "source": [
    "grader.check(\"q3.4\")"
   ]
  },
  {
   "cell_type": "markdown",
   "metadata": {
    "deletable": false,
    "editable": false
   },
   "source": [
    "<!-- BEGIN QUESTION -->\n",
    "\n",
    "### Question 4 [3]\n",
    "\n",
    "Which model do you recommend for classifying the kindle review data? Give a motivation. Use the performance measures calculated for each model to motivate and explain your decision.\n",
    "\n",
    "<!--\n",
    "BEGIN QUESTION\n",
    "name: q4\n",
    "manual: true\n",
    "points: 3\n",
    "-->"
   ]
  },
  {
   "cell_type": "markdown",
   "metadata": {},
   "source": [
    "_For Naive bayes classifier we have the accuracy score to be 0.8012 and logistic regression we have 0.8125, this is higher than the value for naive bayes.Since accuracy is the ratios of values correctly predicted to the total count observation, we would prefer to have the higher score i.e logistic regression value. For precison naive bayes has 0.8568 score and logistic regression has 0.8385, in this case naive bayes has a higher score. Since precision is the ratio of positive predictions correctly made to the total count of positive numbers, we would also want a higher value i.e. naive bayes value. Lastly, for Recall naive bayes has a score of 0.7494 and logistic regression has the value 0.8109, in this case the logistic regression has a higher score. Since Recall is the ratio of positive predictions correctly made by the model to all values present in positive class, logistic regression value is prefered here. Hence we can conclude that logistic regression model is better for classifying the kindle review data._"
   ]
  },
  {
   "cell_type": "markdown",
   "metadata": {},
   "source": [
    "<!-- END QUESTION -->\n",
    "\n",
    "\n",
    "\n",
    "## Kindle review: Topic modelling"
   ]
  },
  {
   "cell_type": "markdown",
   "metadata": {},
   "source": [
    "### Question 5 - Latent Dirichlet Allocation (LDA)"
   ]
  },
  {
   "cell_type": "markdown",
   "metadata": {
    "deletable": false,
    "editable": false
   },
   "source": [
    "#### Question 5.1 [1]\n",
    "\n",
    "- Use the sklearn Countvectorizer. Use the following parameters:\n",
    "    - stop_words = 'english'.\n",
    "    - max_features = 1000.\n",
    "    - token_pattern = r'\\b[^\\d\\W]+\\b'. \n",
    "- Call the instantiation 'lda_mat'.\n",
    "- Get the vectorization (call it bag_of_words) and the feature names (call it 'feature_names')\n",
    "\n",
    "\n",
    "<!--\n",
    "BEGIN QUESTION\n",
    "name: q5.1\n",
    "points: 1\n",
    "-->"
   ]
  },
  {
   "cell_type": "code",
   "execution_count": 26,
   "metadata": {},
   "outputs": [],
   "source": [
    "lda_mat = CountVectorizer(stop_words = 'english', token_pattern = r'\\b[^\\d\\W]+\\b', max_features = 1000)\n",
    "bag_of_words = lda_mat.fit_transform(Reviews)\n",
    "feature_names = lda_mat.get_feature_names()\n",
    "\n",
    "no_topics = 20\n",
    "# Run LDA\n",
    "lda = LatentDirichletAllocation(n_components = no_topics,\n",
    "                                max_iter = 5,\n",
    "                                learning_method = 'online',\n",
    "                                learning_offset = 50.,\n",
    "                                random_state = 0).fit(bag_of_words)"
   ]
  },
  {
   "cell_type": "code",
   "execution_count": 27,
   "metadata": {
    "deletable": false,
    "editable": false
   },
   "outputs": [
    {
     "data": {
      "text/html": [
       "<p><strong><pre style='display: inline;'>q5.1</pre></strong> passed!</p>"
      ],
      "text/plain": [
       "q5.1 results: All test cases passed!"
      ]
     },
     "execution_count": 27,
     "metadata": {},
     "output_type": "execute_result"
    }
   ],
   "source": [
    "grader.check(\"q5.1\")"
   ]
  },
  {
   "cell_type": "markdown",
   "metadata": {
    "deletable": false,
    "editable": false
   },
   "source": [
    "#### Question 5.2 [2]\n",
    "\n",
    "Write a function to find the top 20 unique words.\n",
    "\n",
    "- Function name: top_20_features.\n",
    "\n",
    "    - Input: corpus (Reviews).\n",
    "    - Output: A list of tuples where the first tuple item is the word and the second tuple item is the frequency. Call this list 'top_20'. \n",
    "\n",
    "**Note**: Use the same parameters as above for Countvectoriser.\n",
    "\n",
    "<!--\n",
    "BEGIN QUESTION\n",
    "name: q5.2\n",
    "points: \n",
    "    each: 1\n",
    "-->"
   ]
  },
  {
   "cell_type": "code",
   "execution_count": 28,
   "metadata": {},
   "outputs": [
    {
     "name": "stdout",
     "output_type": "stream",
     "text": [
      "[('book', 4204), ('s', 3851), ('t', 3556), ('story', 3317), ('read', 2673), ('just', 1868), ('like', 1759), ('good', 1387), ('characters', 1375), ('really', 1248), ('love', 1197), ('author', 1062), ('books', 1018), ('time', 970), ('series', 958), ('reading', 939), ('did', 814), ('didn', 777), ('short', 774), ('great', 765)]\n"
     ]
    }
   ],
   "source": [
    "def top_20_features(corpus):\n",
    "    vec = CountVectorizer(stop_words = 'english', token_pattern = r'\\b[^\\d\\W]+\\b', max_features = 1000).fit(corpus)\n",
    "    bag_of_words = vec.fit_transform(corpus)\n",
    "    sum_words = bag_of_words.sum(axis=0) \n",
    "    words_freq = [(word, sum_words[0, idx]) for word, idx in     vec.vocabulary_.items()]\n",
    "    words_freq =sorted(words_freq, key = lambda x: x[1], reverse=True)\n",
    "    return words_freq[:20]\n",
    "\n",
    "corpus = Reviews\n",
    "top_20 = top_20_features(corpus)\n",
    "print(top_20)"
   ]
  },
  {
   "cell_type": "code",
   "execution_count": 29,
   "metadata": {
    "deletable": false,
    "editable": false
   },
   "outputs": [
    {
     "data": {
      "text/html": [
       "<p><strong><pre style='display: inline;'>q5.2</pre></strong> passed!</p>"
      ],
      "text/plain": [
       "q5.2 results: All test cases passed!"
      ]
     },
     "execution_count": 29,
     "metadata": {},
     "output_type": "execute_result"
    }
   ],
   "source": [
    "grader.check(\"q5.2\")"
   ]
  },
  {
   "cell_type": "markdown",
   "metadata": {},
   "source": [
    "## Unsupervised Learning"
   ]
  },
  {
   "cell_type": "markdown",
   "metadata": {},
   "source": [
    "### Question 6 - Clustering"
   ]
  },
  {
   "cell_type": "markdown",
   "metadata": {
    "deletable": false,
    "editable": false
   },
   "source": [
    "<!-- BEGIN QUESTION -->\n",
    "\n",
    "#### Question 6.1 [1]\n",
    "\n",
    "- Use the code provided to read the data 'cluster' into a dataframe and call it 'clusdat'.\n",
    "- Plot a scatter plot\n",
    "\n",
    "<!--\n",
    "BEGIN QUESTION\n",
    "name: q6.1\n",
    "manual: true\n",
    "points: 1\n",
    "-->"
   ]
  },
  {
   "cell_type": "code",
   "execution_count": 30,
   "metadata": {},
   "outputs": [
    {
     "data": {
      "image/png": "[encoded data removed]",
      "text/plain": [
       "<Figure size 432x288 with 1 Axes>"
      ]
     },
     "metadata": {
      "needs_background": "light"
     },
     "output_type": "display_data"
    }
   ],
   "source": [
    "clusdat = pd.read_csv('cluster.csv')\n",
    "plt.scatter(clusdat.X1,clusdat.X2)\n",
    "plt.show()"
   ]
  },
  {
   "cell_type": "markdown",
   "metadata": {
    "deletable": false,
    "editable": false
   },
   "source": [
    "<!-- END QUESTION -->\n",
    "\n",
    "#### Question 6.2 [1]\n",
    "\n",
    "- Use the scree plot method to choose the optimal number of clusters (k) to perform k-means.\n",
    "- ASsign the optimal number of clusters to the variabe 'c_num'.\n",
    "\n",
    "<!--\n",
    "BEGIN QUESTION\n",
    "name: q6.2\n",
    "points: \n",
    "    each: 1\n",
    "-->"
   ]
  },
  {
   "cell_type": "code",
   "execution_count": 31,
   "metadata": {},
   "outputs": [
    {
     "data": {
      "image/png": "[encoded data removed]",
      "text/plain": [
       "<Figure size 1152x576 with 1 Axes>"
      ]
     },
     "metadata": {
      "needs_background": "light"
     },
     "output_type": "display_data"
    }
   ],
   "source": [
    "distortions = []\n",
    "K = range(1,10)\n",
    "for k in K:\n",
    "    kmeansModel = KMeans(n_clusters = k)\n",
    "    kmeansModel.fit(clusdat)\n",
    "    distortions.append(kmeansModel.inertia_)\n",
    "plt.figure(figsize = (16,8))\n",
    "plt.plot(K, distortions, 'bx-')\n",
    "plt.xlabel('k')\n",
    "plt.title('The Elbow method showing optimal K')\n",
    "plt.show()\n",
    "c_num = 3"
   ]
  },
  {
   "cell_type": "code",
   "execution_count": 32,
   "metadata": {
    "deletable": false,
    "editable": false
   },
   "outputs": [
    {
     "data": {
      "text/html": [
       "<p><strong><pre style='display: inline;'>q6.2</pre></strong> passed!</p>"
      ],
      "text/plain": [
       "q6.2 results: All test cases passed!"
      ]
     },
     "execution_count": 32,
     "metadata": {},
     "output_type": "execute_result"
    }
   ],
   "source": [
    "grader.check(\"q6.2\")"
   ]
  },
  {
   "cell_type": "markdown",
   "metadata": {
    "deletable": false,
    "editable": false
   },
   "source": [
    "#### Question 6.3 [2]\n",
    "\n",
    "- Cluster the data using our prespecified cluster total using k-means\n",
    "- Set the max_iter to 500 and the seed of 33.\n",
    "- Assign the fitted prediction to the variable 'y_pred'\n",
    "\n",
    "<!--\n",
    "BEGIN QUESTION\n",
    "name: q6.2\n",
    "points: 2\n",
    "-->"
   ]
  },
  {
   "cell_type": "code",
   "execution_count": 33,
   "metadata": {},
   "outputs": [],
   "source": [
    "y_pred = KMeans(n_clusters = c_num, random_state = 33).fit_predict(clusdat)"
   ]
  },
  {
   "cell_type": "code",
   "execution_count": 34,
   "metadata": {
    "deletable": false,
    "editable": false
   },
   "outputs": [
    {
     "data": {
      "text/html": [
       "<p><strong><pre style='display: inline;'>q6.2</pre></strong> passed!</p>"
      ],
      "text/plain": [
       "q6.2 results: All test cases passed!"
      ]
     },
     "execution_count": 34,
     "metadata": {},
     "output_type": "execute_result"
    }
   ],
   "source": [
    "grader.check(\"q6.2\")"
   ]
  },
  {
   "cell_type": "markdown",
   "metadata": {
    "deletable": false,
    "editable": false
   },
   "source": [
    "<!-- BEGIN QUESTION -->\n",
    "\n",
    "#### Question 6.4 [1]\n",
    "\n",
    "- Use the clusters obtained to visualize the clusters.\n",
    "- - Use different colors to distinguish between the clusters\n",
    "\n",
    "<!--\n",
    "BEGIN QUESTION\n",
    "name: q6.4\n",
    "manual: true\n",
    "points: 1\n",
    "-->"
   ]
  },
  {
   "cell_type": "code",
   "execution_count": 53,
   "metadata": {},
   "outputs": [
    {
     "data": {
      "image/png": "[encoded data removed]",
      "text/plain": [
       "<Figure size 432x288 with 1 Axes>"
      ]
     },
     "metadata": {
      "needs_background": "light"
     },
     "output_type": "display_data"
    }
   ],
   "source": [
    "plt.scatter(clusdat.X1,clusdat.X2, c = y_pred)\n",
    "plt.show()"
   ]
  },
  {
   "cell_type": "markdown",
   "metadata": {
    "deletable": false,
    "editable": false
   },
   "source": [
    "---\n",
    "\n",
    "To double-check your work, the cell below will rerun all of the autograder tests."
   ]
  },
  {
   "cell_type": "code",
   "execution_count": 69,
   "metadata": {
    "deletable": false,
    "editable": false
   },
   "outputs": [
    {
     "data": {
      "text/plain": [
       "q1 results:\n",
       "    q1 - 1 result:\n",
       "        Trying:\n",
       "            isinstance(x, float)\n",
       "        Expecting:\n",
       "            True\n",
       "        **********************************************************************\n",
       "        Line 1, in q1 0\n",
       "        Failed example:\n",
       "            isinstance(x, float)\n",
       "        Exception raised:\n",
       "            Traceback (most recent call last):\n",
       "              File \"C:\\Users\\ikeoy\\Anaconda3\\lib\\doctest.py\", line 1329, in __run\n",
       "                compileflags, 1), test.globs)\n",
       "              File \"<doctest q1 0[0]>\", line 1, in <module>\n",
       "                isinstance(x, float)\n",
       "            NameError: name 'x' is not defined\n",
       "\n",
       "    q1 - 2 result:\n",
       "        Trying:\n",
       "            isinstance(y, int)\n",
       "        Expecting:\n",
       "            True\n",
       "        **********************************************************************\n",
       "        Line 1, in q1 1\n",
       "        Failed example:\n",
       "            isinstance(y, int)\n",
       "        Exception raised:\n",
       "            Traceback (most recent call last):\n",
       "              File \"C:\\Users\\ikeoy\\Anaconda3\\lib\\doctest.py\", line 1329, in __run\n",
       "                compileflags, 1), test.globs)\n",
       "              File \"<doctest q1 1[0]>\", line 1, in <module>\n",
       "                isinstance(y, int)\n",
       "            NameError: name 'y' is not defined\n",
       "\n",
       "q1.1 results: All test cases passed!\n",
       "\n",
       "q1.2 results: All test cases passed!\n",
       "\n",
       "q2 results:\n",
       "    q2 - 1 result:\n",
       "        Trying:\n",
       "            isinstance(my_list, list)\n",
       "        Expecting:\n",
       "            True\n",
       "        **********************************************************************\n",
       "        Line 1, in q2 0\n",
       "        Failed example:\n",
       "            isinstance(my_list, list)\n",
       "        Exception raised:\n",
       "            Traceback (most recent call last):\n",
       "              File \"C:\\Users\\ikeoy\\Anaconda3\\lib\\doctest.py\", line 1329, in __run\n",
       "                compileflags, 1), test.globs)\n",
       "              File \"<doctest q2 0[0]>\", line 1, in <module>\n",
       "                isinstance(my_list, list)\n",
       "            NameError: name 'my_list' is not defined\n",
       "\n",
       "q2.1 results: All test cases passed!\n",
       "\n",
       "q2.2 results: All test cases passed!\n",
       "\n",
       "q2.3a results: All test cases passed!\n",
       "\n",
       "q2.4 results: All test cases passed!\n",
       "\n",
       "q2.5 results: All test cases passed!\n",
       "\n",
       "q2_a results:\n",
       "    q2_a - 1 result:\n",
       "        Trying:\n",
       "            isinstance(chipo_one_prod, pd.DataFrame)\n",
       "        Expecting:\n",
       "            True\n",
       "        **********************************************************************\n",
       "        Line 1, in q2_a 0\n",
       "        Failed example:\n",
       "            isinstance(chipo_one_prod, pd.DataFrame)\n",
       "        Exception raised:\n",
       "            Traceback (most recent call last):\n",
       "              File \"C:\\Users\\ikeoy\\Anaconda3\\lib\\doctest.py\", line 1329, in __run\n",
       "                compileflags, 1), test.globs)\n",
       "              File \"<doctest q2_a 0[0]>\", line 1, in <module>\n",
       "                isinstance(chipo_one_prod, pd.DataFrame)\n",
       "            NameError: name 'chipo_one_prod' is not defined\n",
       "\n",
       "q2b results:\n",
       "    q2b - 1 result:\n",
       "        Trying:\n",
       "            chipo_filtered.shape == (103, 5)\n",
       "        Expecting:\n",
       "            True\n",
       "        **********************************************************************\n",
       "        Line 1, in q2b 0\n",
       "        Failed example:\n",
       "            chipo_filtered.shape == (103, 5)\n",
       "        Exception raised:\n",
       "            Traceback (most recent call last):\n",
       "              File \"C:\\Users\\ikeoy\\Anaconda3\\lib\\doctest.py\", line 1329, in __run\n",
       "                compileflags, 1), test.globs)\n",
       "              File \"<doctest q2b 0[0]>\", line 1, in <module>\n",
       "                chipo_filtered.shape == (103, 5)\n",
       "            NameError: name 'chipo_filtered' is not defined\n",
       "\n",
       "q3 results:\n",
       "    q3 - 1 result:\n",
       "        Trying:\n",
       "            len(data[\"flavor\"].unique()) == 4\n",
       "        Expecting:\n",
       "            True\n",
       "        **********************************************************************\n",
       "        Line 1, in q3 0\n",
       "        Failed example:\n",
       "            len(data[\"flavor\"].unique()) == 4\n",
       "        Exception raised:\n",
       "            Traceback (most recent call last):\n",
       "              File \"C:\\Users\\ikeoy\\Anaconda3\\lib\\site-packages\\pandas\\core\\indexes\\base.py\", line 2897, in get_loc\n",
       "                return self._engine.get_loc(key)\n",
       "              File \"pandas\\_libs\\index.pyx\", line 107, in pandas._libs.index.IndexEngine.get_loc\n",
       "              File \"pandas\\_libs\\index.pyx\", line 131, in pandas._libs.index.IndexEngine.get_loc\n",
       "              File \"pandas\\_libs\\hashtable_class_helper.pxi\", line 1607, in pandas._libs.hashtable.PyObjectHashTable.get_item\n",
       "              File \"pandas\\_libs\\hashtable_class_helper.pxi\", line 1614, in pandas._libs.hashtable.PyObjectHashTable.get_item\n",
       "            KeyError: 'flavor'\n",
       "\n",
       "            During handling of the above exception, another exception occurred:\n",
       "\n",
       "            Traceback (most recent call last):\n",
       "              File \"C:\\Users\\ikeoy\\Anaconda3\\lib\\doctest.py\", line 1329, in __run\n",
       "                compileflags, 1), test.globs)\n",
       "              File \"<doctest q3 0[0]>\", line 1, in <module>\n",
       "                len(data[\"flavor\"].unique()) == 4\n",
       "              File \"C:\\Users\\ikeoy\\Anaconda3\\lib\\site-packages\\pandas\\core\\frame.py\", line 2980, in __getitem__\n",
       "                indexer = self.columns.get_loc(key)\n",
       "              File \"C:\\Users\\ikeoy\\Anaconda3\\lib\\site-packages\\pandas\\core\\indexes\\base.py\", line 2899, in get_loc\n",
       "                return self._engine.get_loc(self._maybe_cast_indexer(key))\n",
       "              File \"pandas\\_libs\\index.pyx\", line 107, in pandas._libs.index.IndexEngine.get_loc\n",
       "              File \"pandas\\_libs\\index.pyx\", line 131, in pandas._libs.index.IndexEngine.get_loc\n",
       "              File \"pandas\\_libs\\hashtable_class_helper.pxi\", line 1607, in pandas._libs.hashtable.PyObjectHashTable.get_item\n",
       "              File \"pandas\\_libs\\hashtable_class_helper.pxi\", line 1614, in pandas._libs.hashtable.PyObjectHashTable.get_item\n",
       "            KeyError: 'flavor'\n",
       "\n",
       "    q3 - 2 result:\n",
       "        Trying:\n",
       "            assert type(price_by_flavor) == pd.Series\n",
       "        Expecting nothing\n",
       "        **********************************************************************\n",
       "        Line 1, in q3 1\n",
       "        Failed example:\n",
       "            assert type(price_by_flavor) == pd.Series\n",
       "        Exception raised:\n",
       "            Traceback (most recent call last):\n",
       "              File \"C:\\Users\\ikeoy\\Anaconda3\\lib\\doctest.py\", line 1329, in __run\n",
       "                compileflags, 1), test.globs)\n",
       "              File \"<doctest q3 1[0]>\", line 1, in <module>\n",
       "                assert type(price_by_flavor) == pd.Series\n",
       "            NameError: name 'price_by_flavor' is not defined\n",
       "\n",
       "q3.1 results: All test cases passed!\n",
       "\n",
       "q3.2 results: All test cases passed!\n",
       "\n",
       "q3.3 results: All test cases passed!\n",
       "\n",
       "q3.4 results: All test cases passed!\n",
       "\n",
       "q4 results:\n",
       "    q4 - 1 result:\n",
       "        Trying:\n",
       "            q4_result.reset_index()['Sale_amt'].sum()==90824.66666666666\n",
       "        Expecting:\n",
       "            True\n",
       "        **********************************************************************\n",
       "        Line 1, in q4 0\n",
       "        Failed example:\n",
       "            q4_result.reset_index()['Sale_amt'].sum()==90824.66666666666\n",
       "        Exception raised:\n",
       "            Traceback (most recent call last):\n",
       "              File \"C:\\Users\\ikeoy\\Anaconda3\\lib\\doctest.py\", line 1329, in __run\n",
       "                compileflags, 1), test.globs)\n",
       "              File \"<doctest q4 0[0]>\", line 1, in <module>\n",
       "                q4_result.reset_index()['Sale_amt'].sum()==90824.66666666666\n",
       "            NameError: name 'q4_result' is not defined\n",
       "\n",
       "    q4 - 2 result:\n",
       "        Trying:\n",
       "            q4_result.reset_index()['Sale_amt'].sum()==90824.66666666666\n",
       "        Expecting:\n",
       "            True\n",
       "        **********************************************************************\n",
       "        Line 1, in q4 1\n",
       "        Failed example:\n",
       "            q4_result.reset_index()['Sale_amt'].sum()==90824.66666666666\n",
       "        Exception raised:\n",
       "            Traceback (most recent call last):\n",
       "              File \"C:\\Users\\ikeoy\\Anaconda3\\lib\\doctest.py\", line 1329, in __run\n",
       "                compileflags, 1), test.globs)\n",
       "              File \"<doctest q4 1[0]>\", line 1, in <module>\n",
       "                q4_result.reset_index()['Sale_amt'].sum()==90824.66666666666\n",
       "            NameError: name 'q4_result' is not defined\n",
       "\n",
       "    q4 - 3 result:\n",
       "        Trying:\n",
       "            q4_result.reset_index().columns.to_list() == ['Region', 'Manager', 'SalesMan', 'Sale_amt'] or q4_result.columns.to_list() == ['Region', 'Manager', 'SalesMan', 'Sale_amt']\n",
       "        Expecting:\n",
       "            True\n",
       "        **********************************************************************\n",
       "        Line 1, in q4 2\n",
       "        Failed example:\n",
       "            q4_result.reset_index().columns.to_list() == ['Region', 'Manager', 'SalesMan', 'Sale_amt'] or q4_result.columns.to_list() == ['Region', 'Manager', 'SalesMan', 'Sale_amt']\n",
       "        Exception raised:\n",
       "            Traceback (most recent call last):\n",
       "              File \"C:\\Users\\ikeoy\\Anaconda3\\lib\\doctest.py\", line 1329, in __run\n",
       "                compileflags, 1), test.globs)\n",
       "              File \"<doctest q4 2[0]>\", line 1, in <module>\n",
       "                q4_result.reset_index().columns.to_list() == ['Region', 'Manager', 'SalesMan', 'Sale_amt'] or q4_result.columns.to_list() == ['Region', 'Manager', 'SalesMan', 'Sale_amt']\n",
       "            NameError: name 'q4_result' is not defined\n",
       "\n",
       "    q4 - 4 result:\n",
       "        Trying:\n",
       "            q4_result.reset_index().columns.to_list() == ['Region', 'Manager', 'SalesMan', 'Sale_amt'] or q4_result.columns.to_list() == ['Region', 'Manager', 'SalesMan', 'Sale_amt']\n",
       "        Expecting:\n",
       "            True\n",
       "        **********************************************************************\n",
       "        Line 1, in q4 3\n",
       "        Failed example:\n",
       "            q4_result.reset_index().columns.to_list() == ['Region', 'Manager', 'SalesMan', 'Sale_amt'] or q4_result.columns.to_list() == ['Region', 'Manager', 'SalesMan', 'Sale_amt']\n",
       "        Exception raised:\n",
       "            Traceback (most recent call last):\n",
       "              File \"C:\\Users\\ikeoy\\Anaconda3\\lib\\doctest.py\", line 1329, in __run\n",
       "                compileflags, 1), test.globs)\n",
       "              File \"<doctest q4 3[0]>\", line 1, in <module>\n",
       "                q4_result.reset_index().columns.to_list() == ['Region', 'Manager', 'SalesMan', 'Sale_amt'] or q4_result.columns.to_list() == ['Region', 'Manager', 'SalesMan', 'Sale_amt']\n",
       "            NameError: name 'q4_result' is not defined\n",
       "\n",
       "q4a results:\n",
       "    q4a - 1 result:\n",
       "        Trying:\n",
       "            isinstance(q4a, pd.Series)\n",
       "        Expecting:\n",
       "            True\n",
       "        **********************************************************************\n",
       "        Line 1, in q4a 0\n",
       "        Failed example:\n",
       "            isinstance(q4a, pd.Series)\n",
       "        Exception raised:\n",
       "            Traceback (most recent call last):\n",
       "              File \"C:\\Users\\ikeoy\\Anaconda3\\lib\\doctest.py\", line 1329, in __run\n",
       "                compileflags, 1), test.globs)\n",
       "              File \"<doctest q4a 0[0]>\", line 1, in <module>\n",
       "                isinstance(q4a, pd.Series)\n",
       "            NameError: name 'q4a' is not defined\n",
       "\n",
       "q4b results:\n",
       "    q4b - 1 result:\n",
       "        Trying:\n",
       "            isinstance(q4b, pd.DataFrame)\n",
       "        Expecting:\n",
       "            True\n",
       "        **********************************************************************\n",
       "        Line 1, in q4b 0\n",
       "        Failed example:\n",
       "            isinstance(q4b, pd.DataFrame)\n",
       "        Exception raised:\n",
       "            Traceback (most recent call last):\n",
       "              File \"C:\\Users\\ikeoy\\Anaconda3\\lib\\doctest.py\", line 1329, in __run\n",
       "                compileflags, 1), test.globs)\n",
       "              File \"<doctest q4b 0[0]>\", line 1, in <module>\n",
       "                isinstance(q4b, pd.DataFrame)\n",
       "            NameError: name 'q4b' is not defined\n",
       "\n",
       "q5 results:\n",
       "    q5 - 1 result:\n",
       "        Trying:\n",
       "            np.shape(q5_result) == (3,2)\n",
       "        Expecting:\n",
       "            True\n",
       "        **********************************************************************\n",
       "        Line 1, in q5 0\n",
       "        Failed example:\n",
       "            np.shape(q5_result) == (3,2)\n",
       "        Exception raised:\n",
       "            Traceback (most recent call last):\n",
       "              File \"C:\\Users\\ikeoy\\Anaconda3\\lib\\doctest.py\", line 1329, in __run\n",
       "                compileflags, 1), test.globs)\n",
       "              File \"<doctest q5 0[0]>\", line 1, in <module>\n",
       "                np.shape(q5_result) == (3,2)\n",
       "            NameError: name 'q5_result' is not defined\n",
       "\n",
       "    q5 - 2 result:\n",
       "        Trying:\n",
       "            q5_result.A.sum() == 4.0\n",
       "        Expecting:\n",
       "            True\n",
       "        **********************************************************************\n",
       "        Line 1, in q5 1\n",
       "        Failed example:\n",
       "            q5_result.A.sum() == 4.0\n",
       "        Exception raised:\n",
       "            Traceback (most recent call last):\n",
       "              File \"C:\\Users\\ikeoy\\Anaconda3\\lib\\doctest.py\", line 1329, in __run\n",
       "                compileflags, 1), test.globs)\n",
       "              File \"<doctest q5 1[0]>\", line 1, in <module>\n",
       "                q5_result.A.sum() == 4.0\n",
       "            NameError: name 'q5_result' is not defined\n",
       "\n",
       "    q5 - 3 result:\n",
       "        Trying:\n",
       "            q5_result.A.sum() == 4.0\n",
       "        Expecting:\n",
       "            True\n",
       "        **********************************************************************\n",
       "        Line 1, in q5 2\n",
       "        Failed example:\n",
       "            q5_result.A.sum() == 4.0\n",
       "        Exception raised:\n",
       "            Traceback (most recent call last):\n",
       "              File \"C:\\Users\\ikeoy\\Anaconda3\\lib\\doctest.py\", line 1329, in __run\n",
       "                compileflags, 1), test.globs)\n",
       "              File \"<doctest q5 2[0]>\", line 1, in <module>\n",
       "                q5_result.A.sum() == 4.0\n",
       "            NameError: name 'q5_result' is not defined\n",
       "\n",
       "    q5 - 4 result:\n",
       "        Trying:\n",
       "            q5_result.B.sum() == 12.0\n",
       "        Expecting:\n",
       "            True\n",
       "        **********************************************************************\n",
       "        Line 1, in q5 3\n",
       "        Failed example:\n",
       "            q5_result.B.sum() == 12.0\n",
       "        Exception raised:\n",
       "            Traceback (most recent call last):\n",
       "              File \"C:\\Users\\ikeoy\\Anaconda3\\lib\\doctest.py\", line 1329, in __run\n",
       "                compileflags, 1), test.globs)\n",
       "              File \"<doctest q5 3[0]>\", line 1, in <module>\n",
       "                q5_result.B.sum() == 12.0\n",
       "            NameError: name 'q5_result' is not defined\n",
       "\n",
       "q5.1 results: All test cases passed!\n",
       "\n",
       "q5.2 results: All test cases passed!\n",
       "\n",
       "q6.2 results: All test cases passed!"
      ]
     },
     "execution_count": 69,
     "metadata": {},
     "output_type": "execute_result"
    }
   ],
   "source": [
    "grader.check_all()"
   ]
  },
  {
   "cell_type": "markdown",
   "metadata": {
    "deletable": false,
    "editable": false
   },
   "source": [
    "## Submission\n",
    "\n",
    "Make sure you have run all cells in your notebook in order before running the cell below, so that all images/graphs appear in the output. The cell below will generate a zip file for you to submit. **Please save before exporting!**"
   ]
  },
  {
   "cell_type": "code",
   "execution_count": 54,
   "metadata": {
    "deletable": false,
    "editable": false
   },
   "outputs": [
    {
     "data": {
      "text/html": [
       "\n",
       "            <p>Your submission has been exported. Click <a href=\"assignment_6_2022_10_18T19_17_01_371511.zip\" download=\"assignment_6_2022_10_18T19_17_01_371511.zip\" target=\"_blank\">here</a>\n",
       "            to download the zip file.</p>\n",
       "            "
      ],
      "text/plain": [
       "<IPython.core.display.HTML object>"
      ]
     },
     "metadata": {},
     "output_type": "display_data"
    }
   ],
   "source": [
    "# Save your notebook first, then run this cell to export your submission.\n",
    "grader.export(pdf=False)"
   ]
  },
  {
   "cell_type": "markdown",
   "metadata": {},
   "source": [
    " "
   ]
  }
 ],
 "metadata": {
  "kernelspec": {
   "display_name": "Python 3",
   "language": "python",
   "name": "python3"
  },
  "language_info": {
   "codemirror_mode": {
    "name": "ipython",
    "version": 3
   },
   "file_extension": ".py",
   "mimetype": "text/x-python",
   "name": "python",
   "nbconvert_exporter": "python",
   "pygments_lexer": "ipython3",
   "version": "3.7.4"
  }
 },
 "nbformat": 4,
 "nbformat_minor": 5
}
